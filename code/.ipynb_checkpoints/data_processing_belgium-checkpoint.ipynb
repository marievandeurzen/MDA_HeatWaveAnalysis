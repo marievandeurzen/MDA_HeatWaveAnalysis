{
 "cells": [
  {
   "cell_type": "code",
   "execution_count": 19,
   "metadata": {},
   "outputs": [],
   "source": [
    "# import libraries\n",
    "import numpy as np\n",
    "import pandas as pd\n",
    "import seaborn as sns\n",
    "import functools\n",
    "from util import cleaner_climate"
   ]
  },
  {
   "cell_type": "code",
   "execution_count": 20,
   "metadata": {},
   "outputs": [],
   "source": [
    "# import raw data - Belgium mortality \n",
    "mortality = pd.read_csv('../dataset/cause_of_death_quarterly.csv') \n",
    "reference_dist = pd.read_csv('../dataset/reference_belgium_1996_to_2021.csv') "
   ]
  },
  {
   "cell_type": "code",
   "execution_count": 21,
   "metadata": {},
   "outputs": [],
   "source": [
    "# import raw data - Belgium temperature \n",
    "climate_brussels = pd.read_csv('../dataset/brusselsdailytemperature.csv')\n",
    "climate_antwerp = pd.read_csv('../dataset/antwerpdailytemperature.csv')"
   ]
  },
  {
   "cell_type": "code",
   "execution_count": 22,
   "metadata": {},
   "outputs": [],
   "source": [
    "# define quarter \n",
    "def get_quarter(row):\n",
    "    if 0 < row['MO'] <= 3:\n",
    "        return 'Q1'\n",
    "    if 3 < row['MO'] <= 6:\n",
    "        return 'Q2'\n",
    "    if 6 < row['MO'] <= 9:\n",
    "        return 'Q3'\n",
    "    if 9 < row['MO'] <= 12:\n",
    "        return 'Q4'"
   ]
  },
  {
   "cell_type": "code",
   "execution_count": 23,
   "metadata": {},
   "outputs": [],
   "source": [
    "# concatenate dataframes from cities\n",
    "df_concat = pd.concat([climate_brussels, climate_antwerp])\n",
    "df_concat['country'] = 'belgium'\n",
    "df_concat['quarters'] = df_concat.apply(get_quarter, axis=1)"
   ]
  },
  {
   "cell_type": "code",
   "execution_count": 24,
   "metadata": {},
   "outputs": [],
   "source": [
    "# rename date columns\n",
    "date_dict = {'YEAR': 'YEAR', 'MO': 'MONTH', 'DY': 'DAY'}\n",
    "df_concat.rename(columns = date_dict, inplace = True)"
   ]
  },
  {
   "cell_type": "code",
   "execution_count": 25,
   "metadata": {},
   "outputs": [],
   "source": [
    "# create features for multi-countries case\n",
    "class cleaner_climate_countries(cleaner_climate):  \n",
    "\n",
    "    def monthly_stat(self):\n",
    "        df_results = pd.DataFrame()\n",
    "        df_groupby = self.climate_city.groupby(self.key1)\n",
    "        df_results['TEMP_MEAN'] = df_groupby['T2M_MAX'].mean() # Mean of daily temperature\n",
    "        return df_results"
   ]
  },
  {
   "cell_type": "code",
   "execution_count": 26,
   "metadata": {},
   "outputs": [],
   "source": [
    "# create features\n",
    "Cleaner = cleaner_climate(df_concat, reference_dist, key = ['country', 'YEAR', 'quarters'])\n",
    "climate = Cleaner.featurize()"
   ]
  },
  {
   "cell_type": "code",
   "execution_count": 27,
   "metadata": {},
   "outputs": [
    {
     "name": "stdout",
     "output_type": "stream",
     "text": [
      "     REGION  YEAR quarters                                           COD  \\\n",
      "0      2000  2009       Q1            Diseases of the circulatory system   \n",
      "1      2000  2009       Q1                Diseases of the nervous system   \n",
      "2      2000  2009       Q1            Diseases of the respiratory system   \n",
      "3      2000  2009       Q1  Diseases of the skin and subcutaneous tissue   \n",
      "4      2000  2009       Q1              Mental and behavioural disorders   \n",
      "..      ...   ...      ...                                           ...   \n",
      "643    4000  2017       Q4                Diseases of the nervous system   \n",
      "644    4000  2017       Q4            Diseases of the respiratory system   \n",
      "645    4000  2017       Q4  Diseases of the skin and subcutaneous tissue   \n",
      "646    4000  2017       Q4              Mental and behavioural disorders   \n",
      "647    4000  2017       Q4                                     Neoplasms   \n",
      "\n",
      "     deathcount  country  \n",
      "0          5498  belgium  \n",
      "1           622  belgium  \n",
      "2          2361  belgium  \n",
      "3            37  belgium  \n",
      "4           709  belgium  \n",
      "..          ...      ...  \n",
      "643         127  belgium  \n",
      "644         217  belgium  \n",
      "645          13  belgium  \n",
      "646         114  belgium  \n",
      "647         569  belgium  \n",
      "\n",
      "[648 rows x 6 columns]\n",
      "     country  YEAR quarters  TEMP_MEAN  TEMP_RNG  HEAT_DAYS\n",
      "0    belgium  1996       Q1   4.851484     14.45        0.0\n",
      "1    belgium  1996       Q2  16.805000     16.06       12.0\n",
      "2    belgium  1996       Q3  20.912935     15.62        9.0\n",
      "3    belgium  1996       Q4   8.346957     13.89        4.0\n",
      "4    belgium  1997       Q1   7.216889     16.03       21.0\n",
      "..       ...   ...      ...        ...       ...        ...\n",
      "96   belgium  2020       Q1   9.377308     15.09       16.0\n",
      "97   belgium  2020       Q2  19.240824     18.62       13.0\n",
      "98   belgium  2020       Q3  23.928859     18.96       34.0\n",
      "99   belgium  2020       Q4  11.204402     12.52        8.0\n",
      "100  belgium  2021       Q1   7.776222     16.48       24.0\n",
      "\n",
      "[101 rows x 6 columns]\n"
     ]
    }
   ],
   "source": [
    "print(mortality)\n",
    "print(climate)"
   ]
  },
  {
   "cell_type": "code",
   "execution_count": 28,
   "metadata": {},
   "outputs": [],
   "source": [
    "# merge with the mortality dataset\n",
    "mortality_merged = mortality.merge(climate, how = 'left', on = ['country', 'YEAR', 'quarters'])"
   ]
  },
  {
   "cell_type": "code",
   "execution_count": 29,
   "metadata": {},
   "outputs": [
    {
     "name": "stdout",
     "output_type": "stream",
     "text": [
      "     REGION  YEAR quarters                                           COD  \\\n",
      "0      2000  2009       Q1            Diseases of the circulatory system   \n",
      "1      2000  2009       Q1                Diseases of the nervous system   \n",
      "2      2000  2009       Q1            Diseases of the respiratory system   \n",
      "3      2000  2009       Q1  Diseases of the skin and subcutaneous tissue   \n",
      "4      2000  2009       Q1              Mental and behavioural disorders   \n",
      "..      ...   ...      ...                                           ...   \n",
      "643    4000  2017       Q4                Diseases of the nervous system   \n",
      "644    4000  2017       Q4            Diseases of the respiratory system   \n",
      "645    4000  2017       Q4  Diseases of the skin and subcutaneous tissue   \n",
      "646    4000  2017       Q4              Mental and behavioural disorders   \n",
      "647    4000  2017       Q4                                     Neoplasms   \n",
      "\n",
      "     deathcount  country  TEMP_MEAN  TEMP_RNG  HEAT_DAYS  \n",
      "0          5498  belgium   5.887111     13.52        2.0  \n",
      "1           622  belgium   5.887111     13.52        2.0  \n",
      "2          2361  belgium   5.887111     13.52        2.0  \n",
      "3            37  belgium   5.887111     13.52        2.0  \n",
      "4           709  belgium   5.887111     13.52        2.0  \n",
      "..          ...      ...        ...       ...        ...  \n",
      "643         127  belgium  11.020870     12.40       22.0  \n",
      "644         217  belgium  11.020870     12.40       22.0  \n",
      "645          13  belgium  11.020870     12.40       22.0  \n",
      "646         114  belgium  11.020870     12.40       22.0  \n",
      "647         569  belgium  11.020870     12.40       22.0  \n",
      "\n",
      "[648 rows x 9 columns]\n"
     ]
    }
   ],
   "source": [
    "print(mortality_merged)"
   ]
  },
  {
   "cell_type": "code",
   "execution_count": 30,
   "metadata": {},
   "outputs": [],
   "source": [
    "# Export the mortality dataset\n",
    "mortality_merged.to_csv('../dataset/mortality_merged_belgium.csv', index = False)"
   ]
  },
  {
   "cell_type": "code",
   "execution_count": null,
   "metadata": {},
   "outputs": [],
   "source": []
  }
 ],
 "metadata": {
  "kernelspec": {
   "display_name": "Python 3 (ipykernel)",
   "language": "python",
   "name": "python3"
  },
  "language_info": {
   "codemirror_mode": {
    "name": "ipython",
    "version": 3
   },
   "file_extension": ".py",
   "mimetype": "text/x-python",
   "name": "python",
   "nbconvert_exporter": "python",
   "pygments_lexer": "ipython3",
   "version": "3.9.9"
  },
  "toc": {
   "base_numbering": 1,
   "nav_menu": {},
   "number_sections": true,
   "sideBar": true,
   "skip_h1_title": false,
   "title_cell": "Table of Contents",
   "title_sidebar": "Contents",
   "toc_cell": false,
   "toc_position": {},
   "toc_section_display": true,
   "toc_window_display": false
  }
 },
 "nbformat": 4,
 "nbformat_minor": 4
}
