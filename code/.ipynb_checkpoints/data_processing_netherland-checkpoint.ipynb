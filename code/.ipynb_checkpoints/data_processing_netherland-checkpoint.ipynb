{
 "cells": [
  {
   "cell_type": "code",
   "execution_count": 1,
   "id": "61889170",
   "metadata": {},
   "outputs": [],
   "source": [
    "import numpy as np\n",
    "import pandas as pd\n",
    "import seaborn as sns\n",
    "import functools\n",
    "\n",
    "from subset_helper import cleaner_climate"
   ]
  },
  {
   "cell_type": "code",
   "execution_count": 2,
   "id": "2febfac9",
   "metadata": {},
   "outputs": [],
   "source": [
    "reference_dist = pd.read_csv('../dataset/reference_netherland_1996_to_2021.csv') # 1983 Jan 01 - 2008 Dec 31 as references"
   ]
  },
  {
   "cell_type": "code",
   "execution_count": 3,
   "id": "dd629b4b",
   "metadata": {},
   "outputs": [],
   "source": [
    "climate_rotterdam = pd.read_csv('../dataset/rotterdamdailytemperature.csv')\n",
    "climate_amsterdam = pd.read_csv('../dataset/amsterdamdailytemperature.csv')"
   ]
  },
  {
   "cell_type": "code",
   "execution_count": 4,
   "id": "8b4ca382",
   "metadata": {},
   "outputs": [],
   "source": [
    "def get_quarter(row):\n",
    "    if 0 < row['MO'] <= 3:\n",
    "        return 'Q1'\n",
    "    if 3 < row['MO'] <= 6:\n",
    "        return 'Q2'\n",
    "    if 6 < row['MO'] <= 9:\n",
    "        return 'Q3'\n",
    "    if 9 < row['MO'] <= 12:\n",
    "        return 'Q4'"
   ]
  },
  {
   "cell_type": "code",
   "execution_count": 5,
   "id": "96021a17",
   "metadata": {},
   "outputs": [],
   "source": [
    "# Concatenate dataframes from cities\n",
    "df_concat = pd.concat([climate_rotterdam, climate_amsterdam])\n",
    "df_concat['country'] = 'netherland'\n",
    "df_concat['quarters'] = df_concat.apply(get_quarter, axis=1)"
   ]
  },
  {
   "cell_type": "code",
   "execution_count": 6,
   "id": "0ce6815e",
   "metadata": {},
   "outputs": [],
   "source": [
    "# Rename date columns\n",
    "date_dict = {'YEAR': 'YEAR', 'MO': 'MONTH', 'DY': 'DAY'}\n",
    "df_concat.rename(columns = date_dict, inplace = True)"
   ]
  },
  {
   "cell_type": "code",
   "execution_count": 7,
   "id": "e87e5bac",
   "metadata": {},
   "outputs": [],
   "source": [
    "# Create features for multi-countries case\n",
    "class cleaner_climate_countries(cleaner_climate):  \n",
    "\n",
    "    def monthly_stat(self):\n",
    "        df_results = pd.DataFrame()\n",
    "        df_groupby = self.climate_city.groupby(self.key1)\n",
    "        # Do some features transformation here, add extra columns if needed\n",
    "        df_results['TEMP_MEAN'] = df_groupby['T2M_MAX'].mean() # Mean of daily temperature\n",
    "        return df_results"
   ]
  },
  {
   "cell_type": "code",
   "execution_count": 8,
   "id": "4c679d6d",
   "metadata": {},
   "outputs": [],
   "source": [
    "# Create features\n",
    "Cleaner = cleaner_climate(df_concat, reference_dist, key = ['country', 'YEAR', 'quarters'])\n",
    "climate = Cleaner.featurize()\n",
    "climate.to_csv('../dataset/netherland_heat_days.csv', index = False)"
   ]
  }
 ],
 "metadata": {
  "kernelspec": {
   "display_name": "Python 3 (ipykernel)",
   "language": "python",
   "name": "python3"
  },
  "language_info": {
   "codemirror_mode": {
    "name": "ipython",
    "version": 3
   },
   "file_extension": ".py",
   "mimetype": "text/x-python",
   "name": "python",
   "nbconvert_exporter": "python",
   "pygments_lexer": "ipython3",
   "version": "3.9.9"
  }
 },
 "nbformat": 4,
 "nbformat_minor": 5
}
