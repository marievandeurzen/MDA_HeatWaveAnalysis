{
 "cells": [
  {
   "cell_type": "code",
   "execution_count": 1,
   "metadata": {},
   "outputs": [],
   "source": [
    "# import libraries\n",
    "import numpy as np\n",
    "import pandas as pd"
   ]
  },
  {
   "cell_type": "code",
   "execution_count": 2,
   "metadata": {},
   "outputs": [],
   "source": [
    "# import raw data - Belgium temperature\n",
    "climate_brussels = pd.read_csv('../dataset/brusselsdailytemperature.csv')\n",
    "climate_antwerp = pd.read_csv('../dataset/antwerpdailytemperature.csv')"
   ]
  },
  {
   "cell_type": "code",
   "execution_count": 3,
   "metadata": {},
   "outputs": [],
   "source": [
    "# define quarter\n",
    "def get_quarter(row):\n",
    "    if 0 < row['MO'] <= 3:\n",
    "        return 'Q1'\n",
    "    if 3 < row['MO'] <= 6:\n",
    "        return 'Q2'\n",
    "    if 6 < row['MO'] <= 9:\n",
    "        return 'Q3'\n",
    "    if 9 < row['MO'] <= 12:\n",
    "        return 'Q4'"
   ]
  },
  {
   "cell_type": "code",
   "execution_count": 4,
   "metadata": {},
   "outputs": [],
   "source": [
    "# concatenate dataframes from cities\n",
    "df_concat = pd.concat([climate_brussels, climate_antwerp])\n",
    "df_concat['country'] = 'belgium'\n",
    "df_concat['quarters'] = df_concat.apply(get_quarter, axis=1)"
   ]
  },
  {
   "cell_type": "code",
   "execution_count": 5,
   "metadata": {},
   "outputs": [],
   "source": [
    "# rename date columns\n",
    "date_dict = {'YEAR': 'YEAR', 'MO': 'MONTH', 'DY': 'DAY'}\n",
    "df_concat.rename(columns = date_dict, inplace = True)"
   ]
  },
  {
   "cell_type": "code",
   "execution_count": 6,
   "metadata": {},
   "outputs": [],
   "source": [
    "# quarterly distribution for each region\n",
    "class cleaner_climate():\n",
    "    def __init__(self, df_concat, group_list):\n",
    "        self.climate_city = df_concat\n",
    "        self.group_list = group_list\n",
    "        \n",
    "    def skip_year(self, year = None): \n",
    "        if year != None:\n",
    "            return self.climate_city[self.climate_city['YEAR'] != year]\n",
    "        else:\n",
    "            return self.climate_city \n",
    "        \n",
    "    def quarter_stat(self):\n",
    "        df_results = pd.DataFrame()\n",
    "        df_groupby = self.skip_year().groupby(self.group_list)\n",
    "        # Definition of threshold: 90th quantile of daily max temperature\n",
    "        df_results['TEMPMAX_90th'] = df_groupby['T2M_MAX'].quantile(.90)\n",
    "        return df_results"
   ]
  },
  {
   "cell_type": "code",
   "execution_count": 7,
   "metadata": {},
   "outputs": [],
   "source": [
    "# clean data\n",
    "Cleaner = cleaner_climate(df_concat, ['country', 'quarters'])\n",
    "climate = Cleaner.quarter_stat()"
   ]
  },
  {
   "cell_type": "code",
   "execution_count": 8,
   "metadata": {},
   "outputs": [],
   "source": [
    "# export the table of thresholds\n",
    "climate.reset_index().to_csv('../dataset/reference_belgium_1996_to_2021.csv', index = False)"
   ]
  },
  {
   "cell_type": "code",
   "execution_count": null,
   "metadata": {},
   "outputs": [],
   "source": []
  }
 ],
 "metadata": {
  "kernelspec": {
   "display_name": "Python 3 (ipykernel)",
   "language": "python",
   "name": "python3"
  },
  "language_info": {
   "codemirror_mode": {
    "name": "ipython",
    "version": 3
   },
   "file_extension": ".py",
   "mimetype": "text/x-python",
   "name": "python",
   "nbconvert_exporter": "python",
   "pygments_lexer": "ipython3",
   "version": "3.9.9"
  },
  "toc": {
   "base_numbering": 1,
   "nav_menu": {},
   "number_sections": true,
   "sideBar": true,
   "skip_h1_title": false,
   "title_cell": "Table of Contents",
   "title_sidebar": "Contents",
   "toc_cell": false,
   "toc_position": {},
   "toc_section_display": true,
   "toc_window_display": false
  }
 },
 "nbformat": 4,
 "nbformat_minor": 4
}
