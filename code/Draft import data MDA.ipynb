{
 "cells": [
  {
   "cell_type": "code",
   "execution_count": 1,
   "id": "c5e5132b",
   "metadata": {},
   "outputs": [],
   "source": [
    "import pandas as pd"
   ]
  },
  {
   "cell_type": "code",
   "execution_count": 2,
   "id": "03e7333e",
   "metadata": {},
   "outputs": [],
   "source": [
    "#Temperature data\n",
    "GitURL_TempAdam = 'https://raw.githubusercontent.com/StevenPeutz/MDA_HeatWaveAnalysis/master/dataset/amsterdamdailytemperature.csv'\n",
    "#GitURL_TempRdam = '..'\n",
    "#GitURL_TempBru = '..'\n",
    "#GitURL_TempAnt = '..'\n",
    "\n",
    "#Mortality\n",
    "GitURL_BelgiumDeath = 'https://raw.githubusercontent.com/StevenPeutz/MDA_HeatWaveAnalysis/master/dataset/cause_of_death.xlsx'\n",
    "GitURL_NetherlandsDeath = 'https://raw.githubusercontent.com/StevenPeutz/MDA_HeatWaveAnalysis/master/dataset/mortalityNetherlands.csv'\n",
    "GitURL_NetherlandsDeath2 = 'https://raw.githubusercontent.com/StevenPeutz/MDA_HeatWaveAnalysis/master/dataset/mortalityNL_manuallycleaned.csv'\n",
    "GitURL_NetherlandsDeath3 = 'https://raw.githubusercontent.com/StevenPeutz/MDA_HeatWaveAnalysis/master/dataset/mortalityNL_manuallycleaned.xlsx'"
   ]
  },
  {
   "cell_type": "code",
   "execution_count": 3,
   "id": "0de103a8",
   "metadata": {},
   "outputs": [],
   "source": [
    "df_MortalityBE = pd.read_excel(GitURL_BelgiumDeath)"
   ]
  },
  {
   "cell_type": "code",
   "execution_count": 4,
   "id": "cbed45ec",
   "metadata": {},
   "outputs": [
    {
     "data": {
      "text/plain": [
       "(41278, 7)"
      ]
     },
     "execution_count": 4,
     "metadata": {},
     "output_type": "execute_result"
    }
   ],
   "source": [
    "df_MortalityBE.shape"
   ]
  },
  {
   "cell_type": "code",
   "execution_count": 5,
   "id": "30b22ac1",
   "metadata": {},
   "outputs": [
    {
     "data": {
      "text/html": [
       "<div>\n",
       "<style scoped>\n",
       "    .dataframe tbody tr th:only-of-type {\n",
       "        vertical-align: middle;\n",
       "    }\n",
       "\n",
       "    .dataframe tbody tr th {\n",
       "        vertical-align: top;\n",
       "    }\n",
       "\n",
       "    .dataframe thead th {\n",
       "        text-align: right;\n",
       "    }\n",
       "</style>\n",
       "<table border=\"1\" class=\"dataframe\">\n",
       "  <thead>\n",
       "    <tr style=\"text-align: right;\">\n",
       "      <th></th>\n",
       "      <th>REGION</th>\n",
       "      <th>MONTH</th>\n",
       "      <th>YEAR</th>\n",
       "      <th>AGE-GROUP</th>\n",
       "      <th>SEX</th>\n",
       "      <th>COD</th>\n",
       "      <th>COUNT</th>\n",
       "    </tr>\n",
       "  </thead>\n",
       "  <tbody>\n",
       "    <tr>\n",
       "      <th>0</th>\n",
       "      <td>2000</td>\n",
       "      <td>1</td>\n",
       "      <td>2009</td>\n",
       "      <td>0-24</td>\n",
       "      <td>F</td>\n",
       "      <td>Certain infectious and parasitic diseases</td>\n",
       "      <td>1</td>\n",
       "    </tr>\n",
       "    <tr>\n",
       "      <th>1</th>\n",
       "      <td>2000</td>\n",
       "      <td>1</td>\n",
       "      <td>2009</td>\n",
       "      <td>0-24</td>\n",
       "      <td>F</td>\n",
       "      <td>Neoplasms</td>\n",
       "      <td>4</td>\n",
       "    </tr>\n",
       "    <tr>\n",
       "      <th>2</th>\n",
       "      <td>2000</td>\n",
       "      <td>1</td>\n",
       "      <td>2009</td>\n",
       "      <td>0-24</td>\n",
       "      <td>F</td>\n",
       "      <td>Endocrine, nutritional and metabolic diseases</td>\n",
       "      <td>1</td>\n",
       "    </tr>\n",
       "    <tr>\n",
       "      <th>3</th>\n",
       "      <td>2000</td>\n",
       "      <td>1</td>\n",
       "      <td>2009</td>\n",
       "      <td>0-24</td>\n",
       "      <td>F</td>\n",
       "      <td>Diseases of the nervous system</td>\n",
       "      <td>1</td>\n",
       "    </tr>\n",
       "    <tr>\n",
       "      <th>4</th>\n",
       "      <td>2000</td>\n",
       "      <td>1</td>\n",
       "      <td>2009</td>\n",
       "      <td>0-24</td>\n",
       "      <td>F</td>\n",
       "      <td>Diseases of the respiratory system</td>\n",
       "      <td>1</td>\n",
       "    </tr>\n",
       "    <tr>\n",
       "      <th>5</th>\n",
       "      <td>2000</td>\n",
       "      <td>1</td>\n",
       "      <td>2009</td>\n",
       "      <td>0-24</td>\n",
       "      <td>F</td>\n",
       "      <td>Certain conditions originating in the perinata...</td>\n",
       "      <td>7</td>\n",
       "    </tr>\n",
       "    <tr>\n",
       "      <th>6</th>\n",
       "      <td>2000</td>\n",
       "      <td>1</td>\n",
       "      <td>2009</td>\n",
       "      <td>0-24</td>\n",
       "      <td>F</td>\n",
       "      <td>Congenital malformations, deformations and chr...</td>\n",
       "      <td>5</td>\n",
       "    </tr>\n",
       "    <tr>\n",
       "      <th>7</th>\n",
       "      <td>2000</td>\n",
       "      <td>1</td>\n",
       "      <td>2009</td>\n",
       "      <td>0-24</td>\n",
       "      <td>F</td>\n",
       "      <td>Symptoms, signs and abnormal clinical and labo...</td>\n",
       "      <td>3</td>\n",
       "    </tr>\n",
       "    <tr>\n",
       "      <th>8</th>\n",
       "      <td>2000</td>\n",
       "      <td>1</td>\n",
       "      <td>2009</td>\n",
       "      <td>0-24</td>\n",
       "      <td>F</td>\n",
       "      <td>External causes of morbidity and mortality</td>\n",
       "      <td>3</td>\n",
       "    </tr>\n",
       "    <tr>\n",
       "      <th>9</th>\n",
       "      <td>2000</td>\n",
       "      <td>1</td>\n",
       "      <td>2009</td>\n",
       "      <td>0-24</td>\n",
       "      <td>M</td>\n",
       "      <td>Certain infectious and parasitic diseases</td>\n",
       "      <td>1</td>\n",
       "    </tr>\n",
       "    <tr>\n",
       "      <th>10</th>\n",
       "      <td>2000</td>\n",
       "      <td>1</td>\n",
       "      <td>2009</td>\n",
       "      <td>0-24</td>\n",
       "      <td>M</td>\n",
       "      <td>Endocrine, nutritional and metabolic diseases</td>\n",
       "      <td>1</td>\n",
       "    </tr>\n",
       "    <tr>\n",
       "      <th>11</th>\n",
       "      <td>2000</td>\n",
       "      <td>1</td>\n",
       "      <td>2009</td>\n",
       "      <td>0-24</td>\n",
       "      <td>M</td>\n",
       "      <td>Diseases of the nervous system</td>\n",
       "      <td>2</td>\n",
       "    </tr>\n",
       "    <tr>\n",
       "      <th>12</th>\n",
       "      <td>2000</td>\n",
       "      <td>1</td>\n",
       "      <td>2009</td>\n",
       "      <td>0-24</td>\n",
       "      <td>M</td>\n",
       "      <td>Diseases of the respiratory system</td>\n",
       "      <td>3</td>\n",
       "    </tr>\n",
       "    <tr>\n",
       "      <th>13</th>\n",
       "      <td>2000</td>\n",
       "      <td>1</td>\n",
       "      <td>2009</td>\n",
       "      <td>0-24</td>\n",
       "      <td>M</td>\n",
       "      <td>Certain conditions originating in the perinata...</td>\n",
       "      <td>3</td>\n",
       "    </tr>\n",
       "    <tr>\n",
       "      <th>14</th>\n",
       "      <td>2000</td>\n",
       "      <td>1</td>\n",
       "      <td>2009</td>\n",
       "      <td>0-24</td>\n",
       "      <td>M</td>\n",
       "      <td>Congenital malformations, deformations and chr...</td>\n",
       "      <td>4</td>\n",
       "    </tr>\n",
       "  </tbody>\n",
       "</table>\n",
       "</div>"
      ],
      "text/plain": [
       "    REGION  MONTH  YEAR AGE-GROUP SEX  \\\n",
       "0     2000      1  2009      0-24   F   \n",
       "1     2000      1  2009      0-24   F   \n",
       "2     2000      1  2009      0-24   F   \n",
       "3     2000      1  2009      0-24   F   \n",
       "4     2000      1  2009      0-24   F   \n",
       "5     2000      1  2009      0-24   F   \n",
       "6     2000      1  2009      0-24   F   \n",
       "7     2000      1  2009      0-24   F   \n",
       "8     2000      1  2009      0-24   F   \n",
       "9     2000      1  2009      0-24   M   \n",
       "10    2000      1  2009      0-24   M   \n",
       "11    2000      1  2009      0-24   M   \n",
       "12    2000      1  2009      0-24   M   \n",
       "13    2000      1  2009      0-24   M   \n",
       "14    2000      1  2009      0-24   M   \n",
       "\n",
       "                                                  COD  COUNT  \n",
       "0           Certain infectious and parasitic diseases      1  \n",
       "1                                           Neoplasms      4  \n",
       "2       Endocrine, nutritional and metabolic diseases      1  \n",
       "3                      Diseases of the nervous system      1  \n",
       "4                  Diseases of the respiratory system      1  \n",
       "5   Certain conditions originating in the perinata...      7  \n",
       "6   Congenital malformations, deformations and chr...      5  \n",
       "7   Symptoms, signs and abnormal clinical and labo...      3  \n",
       "8          External causes of morbidity and mortality      3  \n",
       "9           Certain infectious and parasitic diseases      1  \n",
       "10      Endocrine, nutritional and metabolic diseases      1  \n",
       "11                     Diseases of the nervous system      2  \n",
       "12                 Diseases of the respiratory system      3  \n",
       "13  Certain conditions originating in the perinata...      3  \n",
       "14  Congenital malformations, deformations and chr...      4  "
      ]
     },
     "execution_count": 5,
     "metadata": {},
     "output_type": "execute_result"
    }
   ],
   "source": [
    "df_MortalityBE.head(15)"
   ]
  },
  {
   "cell_type": "code",
   "execution_count": 6,
   "id": "eca66d75",
   "metadata": {},
   "outputs": [
    {
     "data": {
      "text/plain": [
       "External causes of morbidity and mortality                                                             3768\n",
       "Neoplasms                                                                                              3628\n",
       "Symptoms, signs and abnormal clinical and laboratory findings, not elsewhere classified                3536\n",
       "Diseases of the circulatory system                                                                     3380\n",
       "Diseases of the nervous system                                                                         3196\n",
       "Diseases of the digestive system                                                                       3075\n",
       "Diseases of the respiratory system                                                                     3037\n",
       "Endocrine, nutritional and metabolic diseases                                                          2902\n",
       "Certain infectious and parasitic diseases                                                              2879\n",
       "Mental and behavioural disorders                                                                       2817\n",
       "Diseases of the genitourinary system                                                                   2344\n",
       "Diseases of the musculoskeletal system and connective tissue                                           1811\n",
       "Diseases of the blood and blood-forming organs and certain disorders involving the immune mechanism    1578\n",
       "Congenital malformations, deformations and chromosomal abnormalities                                   1189\n",
       "Diseases of the skin and subcutaneous tissue                                                           1176\n",
       "Certain conditions originating in the perinatal period                                                  552\n",
       "UNK                                                                                                     313\n",
       "Pregnancy, childbirth and the puerperium                                                                 43\n",
       "Diseases of the eye and adnexa                                                                           30\n",
       "Diseases of the ear and mastoid process                                                                  23\n",
       "U00-U99                                                                                                   1\n",
       "Name: COD, dtype: int64"
      ]
     },
     "execution_count": 6,
     "metadata": {},
     "output_type": "execute_result"
    }
   ],
   "source": [
    "df_MortalityBE['COD'].value_counts()"
   ]
  },
  {
   "cell_type": "code",
   "execution_count": 7,
   "id": "65bf4616",
   "metadata": {},
   "outputs": [],
   "source": [
    "#first make it easier by creating a df with only the relevant rows (Belgium dataset)\n",
    "values_to_keep = ['Neoplasms', 'Diseases of the circulatory system', 'Diseases of the nervous system', 'Diseases of the respiratory system',\n",
    "                 'Mental and behavioural disorders', 'Diseases of the skin and subcutaneous tissue' ] \n",
    "    \n",
    "# selecting rows based on condition \n",
    "BE_subset_df = df_MortalityBE[df_MortalityBE['COD'].isin(values_to_keep)]"
   ]
  },
  {
   "cell_type": "code",
   "execution_count": 8,
   "id": "001d98f1",
   "metadata": {},
   "outputs": [],
   "source": [
    "#df_MortalityBE.shape  #   41278 rows\n",
    "#BE_subset_df.shape     #   17234 rows\n",
    "#BE_subset_df.info()"
   ]
  },
  {
   "cell_type": "code",
   "execution_count": 9,
   "id": "a4cf0f44",
   "metadata": {},
   "outputs": [
    {
     "data": {
      "text/plain": [
       "Neoplasms                                       3628\n",
       "Diseases of the circulatory system              3380\n",
       "Diseases of the nervous system                  3196\n",
       "Diseases of the respiratory system              3037\n",
       "Mental and behavioural disorders                2817\n",
       "Diseases of the skin and subcutaneous tissue    1176\n",
       "Name: COD, dtype: int64"
      ]
     },
     "execution_count": 9,
     "metadata": {},
     "output_type": "execute_result"
    }
   ],
   "source": [
    "BE_subset_df['COD'].value_counts()"
   ]
  },
  {
   "cell_type": "markdown",
   "id": "e78fbc39",
   "metadata": {},
   "source": [
    "# Now it needs to be;\n",
    "\n",
    "- added per quarter (sum per 3 month and sex, but within type and year)..\n",
    "- multiplied by percentage (fraction) to make it correspond to NL death types..\n"
   ]
  },
  {
   "cell_type": "code",
   "execution_count": 10,
   "id": "45142a61",
   "metadata": {},
   "outputs": [
    {
     "name": "stdout",
     "output_type": "stream",
     "text": [
      "\u001b[33mDEPRECATION: Configuring installation scheme with distutils config files is deprecated and will no longer work in the near future. If you are using a Homebrew or Linuxbrew Python, please see discussion at https://github.com/Homebrew/homebrew-core/issues/76621\u001b[0m\u001b[33m\n",
      "\u001b[0mRequirement already satisfied: pandasql in /usr/local/lib/python3.9/site-packages (0.7.3)\n",
      "Requirement already satisfied: pandas in /usr/local/lib/python3.9/site-packages (from pandasql) (1.2.4)\n",
      "Requirement already satisfied: sqlalchemy in /usr/local/lib/python3.9/site-packages (from pandasql) (1.4.36)\n",
      "Requirement already satisfied: numpy in /usr/local/lib/python3.9/site-packages (from pandasql) (1.20.3)\n",
      "Requirement already satisfied: python-dateutil>=2.7.3 in /usr/local/lib/python3.9/site-packages (from pandas->pandasql) (2.8.2)\n",
      "Requirement already satisfied: pytz>=2017.3 in /usr/local/lib/python3.9/site-packages (from pandas->pandasql) (2022.1)\n",
      "Requirement already satisfied: greenlet!=0.4.17 in /usr/local/lib/python3.9/site-packages (from sqlalchemy->pandasql) (1.1.2)\n",
      "Requirement already satisfied: six>=1.5 in /usr/local/lib/python3.9/site-packages (from python-dateutil>=2.7.3->pandas->pandasql) (1.16.0)\n",
      "\u001b[33mDEPRECATION: Configuring installation scheme with distutils config files is deprecated and will no longer work in the near future. If you are using a Homebrew or Linuxbrew Python, please see discussion at https://github.com/Homebrew/homebrew-core/issues/76621\u001b[0m\u001b[33m\n",
      "\u001b[0m"
     ]
    }
   ],
   "source": [
    "!pip install -U pandasql"
   ]
  },
  {
   "cell_type": "code",
   "execution_count": 11,
   "id": "95d1db19",
   "metadata": {},
   "outputs": [],
   "source": [
    "from pandasql import sqldf"
   ]
  },
  {
   "cell_type": "code",
   "execution_count": 12,
   "id": "5caa1afb",
   "metadata": {},
   "outputs": [],
   "source": [
    "q = \"SELECT region, year, case when month IN (1,2,3) then 'Q1' when month IN (4, 5, 6) then 'Q2' when month IN (7,8,9) then 'Q3' when month in (10, 11, 12) then 'Q4' ELSE 'unknown' END as quarters, cod, sum(count) as deathcount FROM BE_subset_df GROUP BY REGION, YEAR, quarters, COD\" \n",
    "newSQLtoPanda_df = sqldf(q, globals())"
   ]
  },
  {
   "cell_type": "code",
   "execution_count": 13,
   "id": "17bf49df",
   "metadata": {},
   "outputs": [],
   "source": [
    "newSQLtoPanda_df['country'] = 'belgium'\n",
    "newSQLtoPanda_df.to_csv('../dataset/cause_of_death_quarterly.csv', index = False)"
   ]
  },
  {
   "cell_type": "markdown",
   "id": "23090c2e",
   "metadata": {},
   "source": [
    "&emsp;\n",
    "\n",
    "\n",
    "\n",
    "\n",
    "\n",
    "\n",
    "# Do the same with the NL dataset.\n",
    "import, and keep onl relevant columns"
   ]
  },
  {
   "cell_type": "code",
   "execution_count": 14,
   "id": "d79f0cbe",
   "metadata": {},
   "outputs": [],
   "source": [
    "df_MortalityNL = pd.read_csv(GitURL_NetherlandsDeath, skiprows=3)"
   ]
  },
  {
   "cell_type": "code",
   "execution_count": 15,
   "id": "480a20bc",
   "metadata": {},
   "outputs": [
    {
     "data": {
      "text/html": [
       "<div>\n",
       "<style scoped>\n",
       "    .dataframe tbody tr th:only-of-type {\n",
       "        vertical-align: middle;\n",
       "    }\n",
       "\n",
       "    .dataframe tbody tr th {\n",
       "        vertical-align: top;\n",
       "    }\n",
       "\n",
       "    .dataframe thead th {\n",
       "        text-align: right;\n",
       "    }\n",
       "</style>\n",
       "<table border=\"1\" class=\"dataframe\">\n",
       "  <thead>\n",
       "    <tr style=\"text-align: right;\">\n",
       "      <th></th>\n",
       "      <th>;\"Totaal alle overledenen\";\"Nieuwvormingen|Totaal nieuwvormingen\";\"Nieuwvormingen|Kwaadaardige nv. van luchtpijp en long\";\"Nieuwvormingen|Kwaadaardige nieuwvorming van borst\";\"Nieuwvormingen|Overige nieuwvormingen\";\"Psychische stoornis. en zktn zenuwstel..\";\"Ziekten van hart en vaatstelsel|Totaal ziekten van hart en vaatstelsel\";\"Ziekten van hart en vaatstelsel|Acuut hartinfarct\";\"Ziekten van hart en vaatstelsel|Hersenvaatletsels\";\"Ziekten van hart en vaatstelsel|Overige ziekten van hart en vaatstelsel\";\"Ziekten van de ademhalingsorganen\";\"Overige doodsoorzaken\"</th>\n",
       "    </tr>\n",
       "  </thead>\n",
       "  <tbody>\n",
       "    <tr>\n",
       "      <th>0</th>\n",
       "      <td>Perioden;\"aantal\";\"aantal\";\"aantal\";\"aantal\";\"...</td>\n",
       "    </tr>\n",
       "    <tr>\n",
       "      <th>1</th>\n",
       "      <td>1996 1e kwartaal;\"38552\";\"9609\";\"2073\";\"870\";\"...</td>\n",
       "    </tr>\n",
       "    <tr>\n",
       "      <th>2</th>\n",
       "      <td>1996 2e kwartaal;\"33618\";\"9426\";\"2171\";\"917\";\"...</td>\n",
       "    </tr>\n",
       "    <tr>\n",
       "      <th>3</th>\n",
       "      <td>1996 3e kwartaal;\"31499\";\"9494\";\"2109\";\"883\";\"...</td>\n",
       "    </tr>\n",
       "    <tr>\n",
       "      <th>4</th>\n",
       "      <td>1996 4e kwartaal;\"33892\";\"9742\";\"2218\";\"907\";\"...</td>\n",
       "    </tr>\n",
       "  </tbody>\n",
       "</table>\n",
       "</div>"
      ],
      "text/plain": [
       "  ;\"Totaal alle overledenen\";\"Nieuwvormingen|Totaal nieuwvormingen\";\"Nieuwvormingen|Kwaadaardige nv. van luchtpijp en long\";\"Nieuwvormingen|Kwaadaardige nieuwvorming van borst\";\"Nieuwvormingen|Overige nieuwvormingen\";\"Psychische stoornis. en zktn zenuwstel..\";\"Ziekten van hart en vaatstelsel|Totaal ziekten van hart en vaatstelsel\";\"Ziekten van hart en vaatstelsel|Acuut hartinfarct\";\"Ziekten van hart en vaatstelsel|Hersenvaatletsels\";\"Ziekten van hart en vaatstelsel|Overige ziekten van hart en vaatstelsel\";\"Ziekten van de ademhalingsorganen\";\"Overige doodsoorzaken\"\n",
       "0  Perioden;\"aantal\";\"aantal\";\"aantal\";\"aantal\";\"...                                                                                                                                                                                                                                                                                                                                                                                                                                                                                                                                      \n",
       "1  1996 1e kwartaal;\"38552\";\"9609\";\"2073\";\"870\";\"...                                                                                                                                                                                                                                                                                                                                                                                                                                                                                                                                      \n",
       "2  1996 2e kwartaal;\"33618\";\"9426\";\"2171\";\"917\";\"...                                                                                                                                                                                                                                                                                                                                                                                                                                                                                                                                      \n",
       "3  1996 3e kwartaal;\"31499\";\"9494\";\"2109\";\"883\";\"...                                                                                                                                                                                                                                                                                                                                                                                                                                                                                                                                      \n",
       "4  1996 4e kwartaal;\"33892\";\"9742\";\"2218\";\"907\";\"...                                                                                                                                                                                                                                                                                                                                                                                                                                                                                                                                      "
      ]
     },
     "execution_count": 15,
     "metadata": {},
     "output_type": "execute_result"
    }
   ],
   "source": [
    "df_MortalityNL.head()\n",
    "#I cant really get this correct, I can do so easily within the xls (by hand I mean) and the reupload and reimport.\n",
    "# But not sure if for the assignment it is not better to do this within python.."
   ]
  },
  {
   "cell_type": "code",
   "execution_count": 16,
   "id": "04980075",
   "metadata": {},
   "outputs": [],
   "source": [
    "#df.columns = ['Perioden', 'Totaal alle overledenen', 'Nieuwvormingen|Totaal nieuwvormingen', 'new_col4', etc..]"
   ]
  },
  {
   "cell_type": "code",
   "execution_count": 17,
   "id": "fb374e2e",
   "metadata": {},
   "outputs": [
    {
     "data": {
      "text/plain": [
       "'\\nClassificatie Nederland\\n\\nKwaadaardige nv. van luchtpijp en long \\naantal:  neoplasme * % luchtpijp en long\\n\\nNieuwvormingen|Kwaadaardige nieuwvorming van borst  Neoplasms\\naantal: neoplasme * % kwaadaardig borst\\n\\nNieuwvormingen|Overige nieuwvormingen\\naantal: neoplasme * % overig\\n\\nPsychische stoornis. en zktn zenuwstel..\\naantal: Mental and behavioural disorders  + Diseases of the nervous system                                                                    \\n\\nZiekten van hart en vaatstelsel|Totaal ziekten van hart en vaatstelsel\\naantal:  Diseases of the circulatory system x % hart en vaat..\\n\\nZiekten van hart en vaatstelsel|Acuut hartinfarct\\naantal: Diseases of the circulatory system x % heart attack\\n\\nZiekten van hart en vaatstelsel|Hersenvaatletsels\\naantal: Diseases of the circulatory system x % brain circulatory etc\\n\\nZiekten van hart en vaatstelsel|Overige ziekten van hart en vaatstelsel\\naantal: Diseases of the circulatory system x % other\\n\\nZiekten van de ademhalingsorganen\\naantal: Diseases of the respiratory system \\n\\nOverige doodsoorzaken : Symptoms, signs and abnormal clinical and laboratory findings, not elsewhere classified                3536\\n\\n'"
      ]
     },
     "execution_count": 17,
     "metadata": {},
     "output_type": "execute_result"
    }
   ],
   "source": [
    "\"\"\"\n",
    "Classificatie Nederland\n",
    "\n",
    "Kwaadaardige nv. van luchtpijp en long \n",
    "aantal:  neoplasme * % luchtpijp en long\n",
    "\n",
    "Nieuwvormingen|Kwaadaardige nieuwvorming van borst  Neoplasms\n",
    "aantal: neoplasme * % kwaadaardig borst\n",
    "\n",
    "Nieuwvormingen|Overige nieuwvormingen\n",
    "aantal: neoplasme * % overig\n",
    "\n",
    "Psychische stoornis. en zktn zenuwstel..\n",
    "aantal: Mental and behavioural disorders  + Diseases of the nervous system                                                                    \n",
    "\n",
    "Ziekten van hart en vaatstelsel|Totaal ziekten van hart en vaatstelsel\n",
    "aantal:  Diseases of the circulatory system x % hart en vaat..\n",
    "\n",
    "Ziekten van hart en vaatstelsel|Acuut hartinfarct\n",
    "aantal: Diseases of the circulatory system x % heart attack\n",
    "\n",
    "Ziekten van hart en vaatstelsel|Hersenvaatletsels\n",
    "aantal: Diseases of the circulatory system x % brain circulatory etc\n",
    "\n",
    "Ziekten van hart en vaatstelsel|Overige ziekten van hart en vaatstelsel\n",
    "aantal: Diseases of the circulatory system x % other\n",
    "\n",
    "Ziekten van de ademhalingsorganen\n",
    "aantal: Diseases of the respiratory system \n",
    "\n",
    "Overige doodsoorzaken : Symptoms, signs and abnormal clinical and laboratory findings, not elsewhere classified                3536\n",
    "\n",
    "\"\"\""
   ]
  },
  {
   "cell_type": "code",
   "execution_count": 18,
   "id": "256d4ca7",
   "metadata": {},
   "outputs": [
    {
     "data": {
      "text/plain": [
       "'\\nheatwave health effects which lead to death: respiratory, cardiovascular | extra: skincancer, nervous system & mental..\\n\\n- respiratory + cardiovascular are in the dataset itself\\n- skincancer voor belgie is in de dataset onder Diseases of the skin and subcutaneous tissue                                                           1176\\n- voor Nederland, sommeren we alle drie kanker kolommen en op basis van statistiek nemen we verhouding van dit totaal\\n- mental/psychological and nervous system ook in beide sets.\\n\\n\\n'"
      ]
     },
     "execution_count": 18,
     "metadata": {},
     "output_type": "execute_result"
    }
   ],
   "source": [
    "'''\n",
    "heatwave health effects which lead to death: respiratory, cardiovascular | extra: skincancer, nervous system & mental..\n",
    "\n",
    "- respiratory + cardiovascular are in the dataset itself\n",
    "- skincancer voor belgie is in de dataset onder Diseases of the skin and subcutaneous tissue                                                           1176\n",
    "- voor Nederland, sommeren we alle drie kanker kolommen en op basis van statistiek nemen we verhouding van dit totaal\n",
    "- mental/psychological and nervous system ook in beide sets.\n",
    "\n",
    "\n",
    "'''"
   ]
  },
  {
   "cell_type": "code",
   "execution_count": 19,
   "id": "89292865",
   "metadata": {},
   "outputs": [],
   "source": [
    "# for now moving on with new dataset (newly uploaded, same dataset but row headers fixed manually)\n",
    "df_MortalityNL = pd.read_excel(GitURL_NetherlandsDeath3)"
   ]
  },
  {
   "cell_type": "code",
   "execution_count": 20,
   "id": "502c3bc3",
   "metadata": {},
   "outputs": [
    {
     "data": {
      "text/plain": [
       "(93, 13)"
      ]
     },
     "execution_count": 20,
     "metadata": {},
     "output_type": "execute_result"
    }
   ],
   "source": [
    "df_MortalityNL.shape"
   ]
  },
  {
   "cell_type": "code",
   "execution_count": 21,
   "id": "e5b11b97",
   "metadata": {},
   "outputs": [
    {
     "data": {
      "text/html": [
       "<div>\n",
       "<style scoped>\n",
       "    .dataframe tbody tr th:only-of-type {\n",
       "        vertical-align: middle;\n",
       "    }\n",
       "\n",
       "    .dataframe tbody tr th {\n",
       "        vertical-align: top;\n",
       "    }\n",
       "\n",
       "    .dataframe thead th {\n",
       "        text-align: right;\n",
       "    }\n",
       "</style>\n",
       "<table border=\"1\" class=\"dataframe\">\n",
       "  <thead>\n",
       "    <tr style=\"text-align: right;\">\n",
       "      <th></th>\n",
       "      <th>Perioden</th>\n",
       "      <th>Totaal alle overledenen</th>\n",
       "      <th>Nieuwvormingen|Totaal nieuwvormingen</th>\n",
       "      <th>Nieuwvormingen|Kwaadaardige nv. van luchtpijp en long</th>\n",
       "      <th>Nieuwvormingen|Kwaadaardige nieuwvorming van borst</th>\n",
       "      <th>Nieuwvormingen|Overige nieuwvormingen</th>\n",
       "      <th>Psychische stoornis. en zktn zenuwstel</th>\n",
       "      <th>Ziekten van hart en vaatstelsel|Totaal ziekten van hart en vaatstelsel</th>\n",
       "      <th>Ziekten van hart en vaatstelsel|Acuut hartinfarct</th>\n",
       "      <th>Ziekten van hart en vaatstelsel|Hersenvaatletsels</th>\n",
       "      <th>Ziekten van hart en vaatstelsel|Overige ziekten van hart en vaatstelsel</th>\n",
       "      <th>Ziekten van de ademhalingsorganen</th>\n",
       "      <th>Overige doodsoorzaken</th>\n",
       "    </tr>\n",
       "  </thead>\n",
       "  <tbody>\n",
       "    <tr>\n",
       "      <th>0</th>\n",
       "      <td>1996 1e kwartaal</td>\n",
       "      <td>38552.0</td>\n",
       "      <td>9609.0</td>\n",
       "      <td>2073.0</td>\n",
       "      <td>870.0</td>\n",
       "      <td>6666.0</td>\n",
       "      <td>2036.0</td>\n",
       "      <td>14751.0</td>\n",
       "      <td>4414.0</td>\n",
       "      <td>3454.0</td>\n",
       "      <td>6883.0</td>\n",
       "      <td>4556.0</td>\n",
       "      <td>7600.0</td>\n",
       "    </tr>\n",
       "    <tr>\n",
       "      <th>1</th>\n",
       "      <td>1996 2e kwartaal</td>\n",
       "      <td>33618.0</td>\n",
       "      <td>9426.0</td>\n",
       "      <td>2171.0</td>\n",
       "      <td>917.0</td>\n",
       "      <td>6338.0</td>\n",
       "      <td>1772.0</td>\n",
       "      <td>12507.0</td>\n",
       "      <td>3673.0</td>\n",
       "      <td>3063.0</td>\n",
       "      <td>5771.0</td>\n",
       "      <td>3089.0</td>\n",
       "      <td>6824.0</td>\n",
       "    </tr>\n",
       "    <tr>\n",
       "      <th>2</th>\n",
       "      <td>1996 3e kwartaal</td>\n",
       "      <td>31499.0</td>\n",
       "      <td>9494.0</td>\n",
       "      <td>2109.0</td>\n",
       "      <td>883.0</td>\n",
       "      <td>6502.0</td>\n",
       "      <td>1619.0</td>\n",
       "      <td>11281.0</td>\n",
       "      <td>3385.0</td>\n",
       "      <td>2663.0</td>\n",
       "      <td>5233.0</td>\n",
       "      <td>2484.0</td>\n",
       "      <td>6621.0</td>\n",
       "    </tr>\n",
       "    <tr>\n",
       "      <th>3</th>\n",
       "      <td>1996 4e kwartaal</td>\n",
       "      <td>33892.0</td>\n",
       "      <td>9742.0</td>\n",
       "      <td>2218.0</td>\n",
       "      <td>907.0</td>\n",
       "      <td>6617.0</td>\n",
       "      <td>1680.0</td>\n",
       "      <td>12774.0</td>\n",
       "      <td>3786.0</td>\n",
       "      <td>3052.0</td>\n",
       "      <td>5936.0</td>\n",
       "      <td>2926.0</td>\n",
       "      <td>6770.0</td>\n",
       "    </tr>\n",
       "    <tr>\n",
       "      <th>4</th>\n",
       "      <td>1997 1e kwartaal</td>\n",
       "      <td>37134.0</td>\n",
       "      <td>9612.0</td>\n",
       "      <td>2203.0</td>\n",
       "      <td>926.0</td>\n",
       "      <td>6483.0</td>\n",
       "      <td>1976.0</td>\n",
       "      <td>13789.0</td>\n",
       "      <td>4015.0</td>\n",
       "      <td>3248.0</td>\n",
       "      <td>6526.0</td>\n",
       "      <td>4527.0</td>\n",
       "      <td>7230.0</td>\n",
       "    </tr>\n",
       "  </tbody>\n",
       "</table>\n",
       "</div>"
      ],
      "text/plain": [
       "           Perioden  Totaal alle overledenen  \\\n",
       "0  1996 1e kwartaal                  38552.0   \n",
       "1  1996 2e kwartaal                  33618.0   \n",
       "2  1996 3e kwartaal                  31499.0   \n",
       "3  1996 4e kwartaal                  33892.0   \n",
       "4  1997 1e kwartaal                  37134.0   \n",
       "\n",
       "   Nieuwvormingen|Totaal nieuwvormingen  \\\n",
       "0                                9609.0   \n",
       "1                                9426.0   \n",
       "2                                9494.0   \n",
       "3                                9742.0   \n",
       "4                                9612.0   \n",
       "\n",
       "   Nieuwvormingen|Kwaadaardige nv. van luchtpijp en long  \\\n",
       "0                                             2073.0       \n",
       "1                                             2171.0       \n",
       "2                                             2109.0       \n",
       "3                                             2218.0       \n",
       "4                                             2203.0       \n",
       "\n",
       "   Nieuwvormingen|Kwaadaardige nieuwvorming van borst  \\\n",
       "0                                              870.0    \n",
       "1                                              917.0    \n",
       "2                                              883.0    \n",
       "3                                              907.0    \n",
       "4                                              926.0    \n",
       "\n",
       "   Nieuwvormingen|Overige nieuwvormingen  \\\n",
       "0                                 6666.0   \n",
       "1                                 6338.0   \n",
       "2                                 6502.0   \n",
       "3                                 6617.0   \n",
       "4                                 6483.0   \n",
       "\n",
       "   Psychische stoornis. en zktn zenuwstel  \\\n",
       "0                                  2036.0   \n",
       "1                                  1772.0   \n",
       "2                                  1619.0   \n",
       "3                                  1680.0   \n",
       "4                                  1976.0   \n",
       "\n",
       "   Ziekten van hart en vaatstelsel|Totaal ziekten van hart en vaatstelsel  \\\n",
       "0                                            14751.0                        \n",
       "1                                            12507.0                        \n",
       "2                                            11281.0                        \n",
       "3                                            12774.0                        \n",
       "4                                            13789.0                        \n",
       "\n",
       "   Ziekten van hart en vaatstelsel|Acuut hartinfarct  \\\n",
       "0                                             4414.0   \n",
       "1                                             3673.0   \n",
       "2                                             3385.0   \n",
       "3                                             3786.0   \n",
       "4                                             4015.0   \n",
       "\n",
       "   Ziekten van hart en vaatstelsel|Hersenvaatletsels  \\\n",
       "0                                             3454.0   \n",
       "1                                             3063.0   \n",
       "2                                             2663.0   \n",
       "3                                             3052.0   \n",
       "4                                             3248.0   \n",
       "\n",
       "   Ziekten van hart en vaatstelsel|Overige ziekten van hart en vaatstelsel  \\\n",
       "0                                             6883.0                         \n",
       "1                                             5771.0                         \n",
       "2                                             5233.0                         \n",
       "3                                             5936.0                         \n",
       "4                                             6526.0                         \n",
       "\n",
       "   Ziekten van de ademhalingsorganen  Overige doodsoorzaken  \n",
       "0                             4556.0                 7600.0  \n",
       "1                             3089.0                 6824.0  \n",
       "2                             2484.0                 6621.0  \n",
       "3                             2926.0                 6770.0  \n",
       "4                             4527.0                 7230.0  "
      ]
     },
     "execution_count": 21,
     "metadata": {},
     "output_type": "execute_result"
    }
   ],
   "source": [
    "df_MortalityNL.head()\n",
    "#had to change to xlsx and reupload to get the columns working properly\n",
    "#will continue next time"
   ]
  },
  {
   "cell_type": "code",
   "execution_count": 22,
   "id": "ea21d074",
   "metadata": {},
   "outputs": [],
   "source": [
    "# does not work but perhaps not needed anyway\n",
    "\n",
    "#first make it easier by creating a df with only the relevant rows (Netherlands dataset)\n",
    "#columns_to_keep = ['Perioden', 'Totaal alle overledenen', 'Nieuwvormingen|Totaal nieuwvormingen', 'Nieuwvormingen|Kwaadaardige nv. van luchtpijp en long',\n",
    "#                 'Nieuwvormingen|Kwaadaardige nieuwvorming van borst', 'Nieuwvormingen|Overige nieuwvormingen','Psychische stoornis. en zktn zenuwstel', 'Ziekten van hart en vaatstelsel|Totaal ziekten van hart en vaatstelsel',\n",
    "#                  'Ziekten van hart en vaatstelsel|Acuut hartinfarct', 'Ziekten van hart en vaatstelsel|Hersenvaatletsels', 'Ziekten van hart en vaatstelsel|Overige ziekten van hart en vaatstelsel', 'Ziekten van de ademhalingsorganen', 'Overige doodsoorzaken'] \n",
    "    \n",
    "# selecting rows based on condition \n",
    "#NL_subset_df = df_MortalityNL[[df_MortalityNL.isin(columns_to_keep)]"
   ]
  },
  {
   "cell_type": "code",
   "execution_count": null,
   "id": "a1af1815",
   "metadata": {},
   "outputs": [],
   "source": []
  }
 ],
 "metadata": {
  "kernelspec": {
   "display_name": "Python 3 (ipykernel)",
   "language": "python",
   "name": "python3"
  },
  "language_info": {
   "codemirror_mode": {
    "name": "ipython",
    "version": 3
   },
   "file_extension": ".py",
   "mimetype": "text/x-python",
   "name": "python",
   "nbconvert_exporter": "python",
   "pygments_lexer": "ipython3",
   "version": "3.9.12"
  }
 },
 "nbformat": 4,
 "nbformat_minor": 5
}
