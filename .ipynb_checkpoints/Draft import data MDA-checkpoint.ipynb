{
 "cells": [
  {
   "cell_type": "code",
   "execution_count": 1,
   "id": "311bdba2",
   "metadata": {},
   "outputs": [],
   "source": [
    "import pandas as pd"
   ]
  },
  {
   "cell_type": "code",
   "execution_count": 3,
   "id": "77409c22",
   "metadata": {},
   "outputs": [],
   "source": [
    "#Temperature data\n",
    "GitURL_TempAdam = 'https://raw.githubusercontent.com/StevenPeutz/MDA_HeatWaveAnalysis/master/dataset/amsterdamdailytemperature.csv'\n",
    "#GitURL_TempRdam = '..'\n",
    "#GitURL_TempBru = '..'\n",
    "#GitURL_TempAnt = '..'"
   ]
  },
  {
   "cell_type": "code",
   "execution_count": 4,
   "id": "0c97eae7",
   "metadata": {},
   "outputs": [],
   "source": [
    "df_TempAdam = pd.read_csv(GitURL_TempAdam)"
   ]
  },
  {
   "cell_type": "code",
   "execution_count": 6,
   "id": "332531c8",
   "metadata": {},
   "outputs": [
    {
     "data": {
      "text/html": [
       "<div>\n",
       "<style scoped>\n",
       "    .dataframe tbody tr th:only-of-type {\n",
       "        vertical-align: middle;\n",
       "    }\n",
       "\n",
       "    .dataframe tbody tr th {\n",
       "        vertical-align: top;\n",
       "    }\n",
       "\n",
       "    .dataframe thead th {\n",
       "        text-align: right;\n",
       "    }\n",
       "</style>\n",
       "<table border=\"1\" class=\"dataframe\">\n",
       "  <thead>\n",
       "    <tr style=\"text-align: right;\">\n",
       "      <th></th>\n",
       "      <th>YEAR</th>\n",
       "      <th>MO</th>\n",
       "      <th>DY</th>\n",
       "      <th>T2M</th>\n",
       "      <th>T2MDEW</th>\n",
       "      <th>T2MWET</th>\n",
       "      <th>TS</th>\n",
       "      <th>T2M_RANGE</th>\n",
       "      <th>T2M_MAX</th>\n",
       "      <th>T2M_MIN</th>\n",
       "    </tr>\n",
       "  </thead>\n",
       "  <tbody>\n",
       "    <tr>\n",
       "      <th>0</th>\n",
       "      <td>1996</td>\n",
       "      <td>1</td>\n",
       "      <td>1</td>\n",
       "      <td>-0.46</td>\n",
       "      <td>-1.49</td>\n",
       "      <td>-0.97</td>\n",
       "      <td>1.19</td>\n",
       "      <td>2.34</td>\n",
       "      <td>0.73</td>\n",
       "      <td>-1.61</td>\n",
       "    </tr>\n",
       "    <tr>\n",
       "      <th>1</th>\n",
       "      <td>1996</td>\n",
       "      <td>1</td>\n",
       "      <td>2</td>\n",
       "      <td>-2.35</td>\n",
       "      <td>-4.08</td>\n",
       "      <td>-3.21</td>\n",
       "      <td>-0.42</td>\n",
       "      <td>3.02</td>\n",
       "      <td>-0.98</td>\n",
       "      <td>-3.99</td>\n",
       "    </tr>\n",
       "    <tr>\n",
       "      <th>2</th>\n",
       "      <td>1996</td>\n",
       "      <td>1</td>\n",
       "      <td>3</td>\n",
       "      <td>-3.20</td>\n",
       "      <td>-4.73</td>\n",
       "      <td>-3.96</td>\n",
       "      <td>-1.34</td>\n",
       "      <td>4.02</td>\n",
       "      <td>-0.54</td>\n",
       "      <td>-4.56</td>\n",
       "    </tr>\n",
       "    <tr>\n",
       "      <th>3</th>\n",
       "      <td>1996</td>\n",
       "      <td>1</td>\n",
       "      <td>4</td>\n",
       "      <td>-2.01</td>\n",
       "      <td>-2.92</td>\n",
       "      <td>-2.46</td>\n",
       "      <td>-0.48</td>\n",
       "      <td>5.84</td>\n",
       "      <td>1.38</td>\n",
       "      <td>-4.46</td>\n",
       "    </tr>\n",
       "    <tr>\n",
       "      <th>4</th>\n",
       "      <td>1996</td>\n",
       "      <td>1</td>\n",
       "      <td>5</td>\n",
       "      <td>-3.10</td>\n",
       "      <td>-4.85</td>\n",
       "      <td>-3.98</td>\n",
       "      <td>-1.30</td>\n",
       "      <td>4.47</td>\n",
       "      <td>-0.81</td>\n",
       "      <td>-5.28</td>\n",
       "    </tr>\n",
       "  </tbody>\n",
       "</table>\n",
       "</div>"
      ],
      "text/plain": [
       "   YEAR  MO  DY   T2M  T2MDEW  T2MWET    TS  T2M_RANGE  T2M_MAX  T2M_MIN\n",
       "0  1996   1   1 -0.46   -1.49   -0.97  1.19       2.34     0.73    -1.61\n",
       "1  1996   1   2 -2.35   -4.08   -3.21 -0.42       3.02    -0.98    -3.99\n",
       "2  1996   1   3 -3.20   -4.73   -3.96 -1.34       4.02    -0.54    -4.56\n",
       "3  1996   1   4 -2.01   -2.92   -2.46 -0.48       5.84     1.38    -4.46\n",
       "4  1996   1   5 -3.10   -4.85   -3.98 -1.30       4.47    -0.81    -5.28"
      ]
     },
     "execution_count": 6,
     "metadata": {},
     "output_type": "execute_result"
    }
   ],
   "source": [
    "df_TempAdam.head()"
   ]
  },
  {
   "cell_type": "code",
   "execution_count": null,
   "id": "eb4343a2",
   "metadata": {},
   "outputs": [],
   "source": []
  }
 ],
 "metadata": {
  "kernelspec": {
   "display_name": "Python 3.7.3 64-bit ('base')",
   "language": "python",
   "name": "python37364bitbasebd025eb8609a4d4cb3ec96c027ae8048"
  },
  "language_info": {
   "codemirror_mode": {
    "name": "ipython",
    "version": 3
   },
   "file_extension": ".py",
   "mimetype": "text/x-python",
   "name": "python",
   "nbconvert_exporter": "python",
   "pygments_lexer": "ipython3",
   "version": "3.7.3"
  }
 },
 "nbformat": 4,
 "nbformat_minor": 5
}
