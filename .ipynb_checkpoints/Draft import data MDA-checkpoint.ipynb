{
 "cells": [
  {
   "cell_type": "code",
   "execution_count": 1,
   "id": "ae3eea84",
   "metadata": {},
   "outputs": [],
   "source": [
    "import pandas as pd"
   ]
  },
  {
   "cell_type": "code",
   "execution_count": 21,
   "id": "8c5dee53",
   "metadata": {},
   "outputs": [],
   "source": [
    "#Temperature data\n",
    "GitURL_TempAdam = 'https://raw.githubusercontent.com/StevenPeutz/MDA_HeatWaveAnalysis/master/dataset/amsterdamdailytemperature.csv'\n",
    "#GitURL_TempRdam = '..'\n",
    "#GitURL_TempBru = '..'\n",
    "#GitURL_TempAnt = '..'\n",
    "\n",
    "#Mortality\n",
    "GitURL_BelgiumDeath = 'https://raw.githubusercontent.com/StevenPeutz/MDA_HeatWaveAnalysis/master/dataset/cause_of_death.xlsx'\n",
    "GitURL_NetherlandsDeath = 'https://raw.githubusercontent.com/StevenPeutz/MDA_HeatWaveAnalysis/master/dataset/mortalityNetherlands.csv'\n",
    "\n"
   ]
  },
  {
   "cell_type": "code",
   "execution_count": 11,
   "id": "fac15ce6",
   "metadata": {},
   "outputs": [],
   "source": [
    "df_MortalityBE = pd.read_excel(GitURL_BelgiumDeath)"
   ]
  },
  {
   "cell_type": "code",
   "execution_count": 14,
   "id": "d81d2450",
   "metadata": {},
   "outputs": [
    {
     "data": {
      "text/html": [
       "<div>\n",
       "<style scoped>\n",
       "    .dataframe tbody tr th:only-of-type {\n",
       "        vertical-align: middle;\n",
       "    }\n",
       "\n",
       "    .dataframe tbody tr th {\n",
       "        vertical-align: top;\n",
       "    }\n",
       "\n",
       "    .dataframe thead th {\n",
       "        text-align: right;\n",
       "    }\n",
       "</style>\n",
       "<table border=\"1\" class=\"dataframe\">\n",
       "  <thead>\n",
       "    <tr style=\"text-align: right;\">\n",
       "      <th></th>\n",
       "      <th>REGION</th>\n",
       "      <th>MONTH</th>\n",
       "      <th>YEAR</th>\n",
       "      <th>AGE-GROUP</th>\n",
       "      <th>SEX</th>\n",
       "      <th>COD</th>\n",
       "      <th>COUNT</th>\n",
       "    </tr>\n",
       "  </thead>\n",
       "  <tbody>\n",
       "    <tr>\n",
       "      <th>0</th>\n",
       "      <td>2000</td>\n",
       "      <td>1</td>\n",
       "      <td>2009</td>\n",
       "      <td>0-24</td>\n",
       "      <td>F</td>\n",
       "      <td>Certain infectious and parasitic diseases</td>\n",
       "      <td>1</td>\n",
       "    </tr>\n",
       "    <tr>\n",
       "      <th>1</th>\n",
       "      <td>2000</td>\n",
       "      <td>1</td>\n",
       "      <td>2009</td>\n",
       "      <td>0-24</td>\n",
       "      <td>F</td>\n",
       "      <td>Neoplasms</td>\n",
       "      <td>4</td>\n",
       "    </tr>\n",
       "    <tr>\n",
       "      <th>2</th>\n",
       "      <td>2000</td>\n",
       "      <td>1</td>\n",
       "      <td>2009</td>\n",
       "      <td>0-24</td>\n",
       "      <td>F</td>\n",
       "      <td>Endocrine, nutritional and metabolic diseases</td>\n",
       "      <td>1</td>\n",
       "    </tr>\n",
       "    <tr>\n",
       "      <th>3</th>\n",
       "      <td>2000</td>\n",
       "      <td>1</td>\n",
       "      <td>2009</td>\n",
       "      <td>0-24</td>\n",
       "      <td>F</td>\n",
       "      <td>Diseases of the nervous system</td>\n",
       "      <td>1</td>\n",
       "    </tr>\n",
       "    <tr>\n",
       "      <th>4</th>\n",
       "      <td>2000</td>\n",
       "      <td>1</td>\n",
       "      <td>2009</td>\n",
       "      <td>0-24</td>\n",
       "      <td>F</td>\n",
       "      <td>Diseases of the respiratory system</td>\n",
       "      <td>1</td>\n",
       "    </tr>\n",
       "  </tbody>\n",
       "</table>\n",
       "</div>"
      ],
      "text/plain": [
       "   REGION  MONTH  YEAR AGE-GROUP SEX  \\\n",
       "0    2000      1  2009      0-24   F   \n",
       "1    2000      1  2009      0-24   F   \n",
       "2    2000      1  2009      0-24   F   \n",
       "3    2000      1  2009      0-24   F   \n",
       "4    2000      1  2009      0-24   F   \n",
       "\n",
       "                                             COD  COUNT  \n",
       "0      Certain infectious and parasitic diseases      1  \n",
       "1                                      Neoplasms      4  \n",
       "2  Endocrine, nutritional and metabolic diseases      1  \n",
       "3                 Diseases of the nervous system      1  \n",
       "4             Diseases of the respiratory system      1  "
      ]
     },
     "execution_count": 14,
     "metadata": {},
     "output_type": "execute_result"
    }
   ],
   "source": [
    "df_MortalityBE.head()"
   ]
  },
  {
   "cell_type": "code",
   "execution_count": 17,
   "id": "5b909883",
   "metadata": {},
   "outputs": [
    {
     "data": {
      "text/plain": [
       "External causes of morbidity and mortality                                                             3768\n",
       "Neoplasms                                                                                              3628\n",
       "Symptoms, signs and abnormal clinical and laboratory findings, not elsewhere classified                3536\n",
       "Diseases of the circulatory system                                                                     3380\n",
       "Diseases of the nervous system                                                                         3196\n",
       "Diseases of the digestive system                                                                       3075\n",
       "Diseases of the respiratory system                                                                     3037\n",
       "Endocrine, nutritional and metabolic diseases                                                          2902\n",
       "Certain infectious and parasitic diseases                                                              2879\n",
       "Mental and behavioural disorders                                                                       2817\n",
       "Diseases of the genitourinary system                                                                   2344\n",
       "Diseases of the musculoskeletal system and connective tissue                                           1811\n",
       "Diseases of the blood and blood-forming organs and certain disorders involving the immune mechanism    1578\n",
       "Congenital malformations, deformations and chromosomal abnormalities                                   1189\n",
       "Diseases of the skin and subcutaneous tissue                                                           1176\n",
       "Certain conditions originating in the perinatal period                                                  552\n",
       "UNK                                                                                                     313\n",
       "Pregnancy, childbirth and the puerperium                                                                 43\n",
       "Diseases of the eye and adnexa                                                                           30\n",
       "Diseases of the ear and mastoid process                                                                  23\n",
       "U00-U99                                                                                                   1\n",
       "Name: COD, dtype: int64"
      ]
     },
     "execution_count": 17,
     "metadata": {},
     "output_type": "execute_result"
    }
   ],
   "source": [
    "df_MortalityBE['COD'].value_counts()"
   ]
  },
  {
   "cell_type": "code",
   "execution_count": 29,
   "id": "d68811c0",
   "metadata": {},
   "outputs": [],
   "source": [
    "#first make it easier by creating a df with only the relevant rows (Belgium)\n",
    "values_to_keep = ['Neoplasms', 'Diseases of the circulatory system', 'Diseases of the nervous system', 'Diseases of the respiratory system',\n",
    "                 'Mental and behavioural disorders', 'Diseases of the skin and subcutaneous tissue' ] \n",
    "    \n",
    "# selecting rows based on condition \n",
    "BE_subset_df = df_MortalityBE[df_MortalityBE['COD'].isin(values_to_keep)]"
   ]
  },
  {
   "cell_type": "code",
   "execution_count": 34,
   "id": "7cd6b9f7",
   "metadata": {},
   "outputs": [],
   "source": [
    "#df_MortalityBE.shape  #   41278 rows\n",
    "#BE_subset_df.shape     #   17234 rows\n",
    "#BE_subset_df.info()"
   ]
  },
  {
   "cell_type": "code",
   "execution_count": 52,
   "id": "d01e8127",
   "metadata": {},
   "outputs": [
    {
     "data": {
      "text/plain": [
       "Neoplasms                                       3628\n",
       "Diseases of the circulatory system              3380\n",
       "Diseases of the nervous system                  3196\n",
       "Diseases of the respiratory system              3037\n",
       "Mental and behavioural disorders                2817\n",
       "Diseases of the skin and subcutaneous tissue    1176\n",
       "Name: COD, dtype: int64"
      ]
     },
     "execution_count": 52,
     "metadata": {},
     "output_type": "execute_result"
    }
   ],
   "source": [
    "BE_subset_df['COD'].value_counts()"
   ]
  },
  {
   "cell_type": "code",
   "execution_count": 48,
   "id": "7c2e20d7",
   "metadata": {},
   "outputs": [],
   "source": [
    "df_MortalityNL = pd.read_csv(GitURL_NetherlandsDeath, skiprows=3)"
   ]
  },
  {
   "cell_type": "code",
   "execution_count": 53,
   "id": "844825a7",
   "metadata": {},
   "outputs": [
    {
     "data": {
      "text/html": [
       "<div>\n",
       "<style scoped>\n",
       "    .dataframe tbody tr th:only-of-type {\n",
       "        vertical-align: middle;\n",
       "    }\n",
       "\n",
       "    .dataframe tbody tr th {\n",
       "        vertical-align: top;\n",
       "    }\n",
       "\n",
       "    .dataframe thead th {\n",
       "        text-align: right;\n",
       "    }\n",
       "</style>\n",
       "<table border=\"1\" class=\"dataframe\">\n",
       "  <thead>\n",
       "    <tr style=\"text-align: right;\">\n",
       "      <th></th>\n",
       "      <th>;\"Totaal alle overledenen\";\"Nieuwvormingen|Totaal nieuwvormingen\";\"Nieuwvormingen|Kwaadaardige nv. van luchtpijp en long\";\"Nieuwvormingen|Kwaadaardige nieuwvorming van borst\";\"Nieuwvormingen|Overige nieuwvormingen\";\"Psychische stoornis. en zktn zenuwstel..\";\"Ziekten van hart en vaatstelsel|Totaal ziekten van hart en vaatstelsel\";\"Ziekten van hart en vaatstelsel|Acuut hartinfarct\";\"Ziekten van hart en vaatstelsel|Hersenvaatletsels\";\"Ziekten van hart en vaatstelsel|Overige ziekten van hart en vaatstelsel\";\"Ziekten van de ademhalingsorganen\";\"Overige doodsoorzaken\"</th>\n",
       "    </tr>\n",
       "  </thead>\n",
       "  <tbody>\n",
       "    <tr>\n",
       "      <th>0</th>\n",
       "      <td>Perioden;\"aantal\";\"aantal\";\"aantal\";\"aantal\";\"...</td>\n",
       "    </tr>\n",
       "    <tr>\n",
       "      <th>1</th>\n",
       "      <td>1996 1e kwartaal;\"38552\";\"9609\";\"2073\";\"870\";\"...</td>\n",
       "    </tr>\n",
       "    <tr>\n",
       "      <th>2</th>\n",
       "      <td>1996 2e kwartaal;\"33618\";\"9426\";\"2171\";\"917\";\"...</td>\n",
       "    </tr>\n",
       "    <tr>\n",
       "      <th>3</th>\n",
       "      <td>1996 3e kwartaal;\"31499\";\"9494\";\"2109\";\"883\";\"...</td>\n",
       "    </tr>\n",
       "    <tr>\n",
       "      <th>4</th>\n",
       "      <td>1996 4e kwartaal;\"33892\";\"9742\";\"2218\";\"907\";\"...</td>\n",
       "    </tr>\n",
       "  </tbody>\n",
       "</table>\n",
       "</div>"
      ],
      "text/plain": [
       "  ;\"Totaal alle overledenen\";\"Nieuwvormingen|Totaal nieuwvormingen\";\"Nieuwvormingen|Kwaadaardige nv. van luchtpijp en long\";\"Nieuwvormingen|Kwaadaardige nieuwvorming van borst\";\"Nieuwvormingen|Overige nieuwvormingen\";\"Psychische stoornis. en zktn zenuwstel..\";\"Ziekten van hart en vaatstelsel|Totaal ziekten van hart en vaatstelsel\";\"Ziekten van hart en vaatstelsel|Acuut hartinfarct\";\"Ziekten van hart en vaatstelsel|Hersenvaatletsels\";\"Ziekten van hart en vaatstelsel|Overige ziekten van hart en vaatstelsel\";\"Ziekten van de ademhalingsorganen\";\"Overige doodsoorzaken\"\n",
       "0  Perioden;\"aantal\";\"aantal\";\"aantal\";\"aantal\";\"...                                                                                                                                                                                                                                                                                                                                                                                                                                                                                                                                      \n",
       "1  1996 1e kwartaal;\"38552\";\"9609\";\"2073\";\"870\";\"...                                                                                                                                                                                                                                                                                                                                                                                                                                                                                                                                      \n",
       "2  1996 2e kwartaal;\"33618\";\"9426\";\"2171\";\"917\";\"...                                                                                                                                                                                                                                                                                                                                                                                                                                                                                                                                      \n",
       "3  1996 3e kwartaal;\"31499\";\"9494\";\"2109\";\"883\";\"...                                                                                                                                                                                                                                                                                                                                                                                                                                                                                                                                      \n",
       "4  1996 4e kwartaal;\"33892\";\"9742\";\"2218\";\"907\";\"...                                                                                                                                                                                                                                                                                                                                                                                                                                                                                                                                      "
      ]
     },
     "execution_count": 53,
     "metadata": {},
     "output_type": "execute_result"
    }
   ],
   "source": [
    "df_MortalityNL.head()\n",
    "#I cant really get this correct, I can do so easily within the xls (by hand I mean) and the reupload and reimport.\n",
    "# But not sure if for the assignment it is not better to do this within python.."
   ]
  },
  {
   "cell_type": "code",
   "execution_count": 45,
   "id": "97811cb1",
   "metadata": {},
   "outputs": [],
   "source": [
    "#df.columns = ['Perioden', 'Totaal alle overledenen', 'Nieuwvormingen|Totaal nieuwvormingen', 'new_col4', etc..]"
   ]
  },
  {
   "cell_type": "code",
   "execution_count": 42,
   "id": "f20e5e12",
   "metadata": {},
   "outputs": [
    {
     "data": {
      "text/plain": [
       "(93, 1)"
      ]
     },
     "execution_count": 42,
     "metadata": {},
     "output_type": "execute_result"
    }
   ],
   "source": [
    "df_MortalityNL.shape"
   ]
  },
  {
   "cell_type": "code",
   "execution_count": 27,
   "id": "bc1f1b39",
   "metadata": {},
   "outputs": [
    {
     "data": {
      "text/plain": [
       "'\\nClassificatie Nederland\\nKwaadaardige nv. van luchtpijp en long\\naantal\\n\\nNieuwvormingen|Kwaadaardige nieuwvorming van borst  Neoplasms\\naantal\\n\\nNieuwvormingen|Overige nieuwvormingen\\naantal\\n\\nPsychische stoornis. en zktn zenuwstel..\\naantal: Mental and behavioural disorders  + Diseases of the nervous system                                                                    \\n\\nZiekten van hart en vaatstelsel|Totaal ziekten van hart en vaatstelsel\\naantal\\n\\nZiekten van hart en vaatstelsel|Acuut hartinfarct\\naantal\\n\\nZiekten van hart en vaatstelsel|Hersenvaatletsels\\naantal\\n\\nZiekten van hart en vaatstelsel|Overige ziekten van hart en vaatstelsel\\naantal\\n\\nZiekten van de ademhalingsorganen\\naantal\\n\\nOverige doodsoorzaken : Symptoms, signs and abnormal clinical and laboratory findings, not elsewhere classified                3536\\n\\naantal\\n'"
      ]
     },
     "execution_count": 27,
     "metadata": {},
     "output_type": "execute_result"
    }
   ],
   "source": [
    "\"\"\"\n",
    "Classificatie Nederland\n",
    "\n",
    "Kwaadaardige nv. van luchtpijp en long \n",
    "aantal:  neoplasme * % luchtpijp en long\n",
    "\n",
    "Nieuwvormingen|Kwaadaardige nieuwvorming van borst  Neoplasms\n",
    "aantal: neoplasme * % kwaadaardig borst\n",
    "\n",
    "Nieuwvormingen|Overige nieuwvormingen\n",
    "aantal: neoplasme * % overig\n",
    "\n",
    "Psychische stoornis. en zktn zenuwstel..\n",
    "aantal: Mental and behavioural disorders  + Diseases of the nervous system                                                                    \n",
    "\n",
    "Ziekten van hart en vaatstelsel|Totaal ziekten van hart en vaatstelsel\n",
    "aantal:  Diseases of the circulatory system x % hart en vaat..\n",
    "\n",
    "Ziekten van hart en vaatstelsel|Acuut hartinfarct\n",
    "aantal: Diseases of the circulatory system x % heart attack\n",
    "\n",
    "Ziekten van hart en vaatstelsel|Hersenvaatletsels\n",
    "aantal: Diseases of the circulatory system x % brain circulatory etc\n",
    "\n",
    "Ziekten van hart en vaatstelsel|Overige ziekten van hart en vaatstelsel\n",
    "aantal: Diseases of the circulatory system x % other\n",
    "\n",
    "Ziekten van de ademhalingsorganen\n",
    "aantal: Diseases of the respiratory system \n",
    "\n",
    "Overige doodsoorzaken : Symptoms, signs and abnormal clinical and laboratory findings, not elsewhere classified                3536\n",
    "\n",
    "\"\"\""
   ]
  },
  {
   "cell_type": "code",
   "execution_count": null,
   "id": "b1b8b31c",
   "metadata": {},
   "outputs": [],
   "source": [
    "'''\n",
    "heatwave health effects which lead to death: respiratory, cardiovascular | extra: skincancer, nervous system & mental..\n",
    "\n",
    "- respiratory + cardiovascular are in the dataset itself\n",
    "- skincancer voor belgie is in de dataset onder Diseases of the skin and subcutaneous tissue                                                           1176\n",
    "- voor Nederland, sommeren we alle drie kanker kolommen en op basis van statistiek nemen we verhouding van dit totaal\n",
    "- mental/psychological and nervous system ook in beide sets.\n",
    "\n",
    "\n",
    "'''"
   ]
  }
 ],
 "metadata": {
  "kernelspec": {
   "display_name": "Python 3.7.3 64-bit ('base')",
   "language": "python",
   "name": "python37364bitbasebd025eb8609a4d4cb3ec96c027ae8048"
  },
  "language_info": {
   "codemirror_mode": {
    "name": "ipython",
    "version": 3
   },
   "file_extension": ".py",
   "mimetype": "text/x-python",
   "name": "python",
   "nbconvert_exporter": "python",
   "pygments_lexer": "ipython3",
   "version": "3.7.3"
  }
 },
 "nbformat": 4,
 "nbformat_minor": 5
}
