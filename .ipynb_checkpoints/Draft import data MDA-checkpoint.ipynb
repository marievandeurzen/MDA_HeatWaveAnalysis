{
 "cells": [
  {
   "cell_type": "code",
   "execution_count": 1,
   "id": "08dd19b5",
   "metadata": {},
   "outputs": [],
   "source": [
    "import pandas as pd"
   ]
  },
  {
   "cell_type": "code",
   "execution_count": 69,
   "id": "9b0d10e1",
   "metadata": {},
   "outputs": [],
   "source": [
    "#Temperature data\n",
    "GitURL_TempAdam = 'https://raw.githubusercontent.com/StevenPeutz/MDA_HeatWaveAnalysis/master/dataset/amsterdamdailytemperature.csv'\n",
    "#GitURL_TempRdam = '..'\n",
    "#GitURL_TempBru = '..'\n",
    "#GitURL_TempAnt = '..'\n",
    "\n",
    "#Mortality\n",
    "GitURL_BelgiumDeath = 'https://raw.githubusercontent.com/StevenPeutz/MDA_HeatWaveAnalysis/master/dataset/cause_of_death.xlsx'\n",
    "GitURL_NetherlandsDeath = 'https://raw.githubusercontent.com/StevenPeutz/MDA_HeatWaveAnalysis/master/dataset/mortalityNetherlands.csv'\n",
    "GitURL_NetherlandsDeath2 = 'https://raw.githubusercontent.com/StevenPeutz/MDA_HeatWaveAnalysis/master/dataset/mortalityNL_manuallycleaned.csv'\n",
    "GitURL_NetherlandsDeath3 = 'https://raw.githubusercontent.com/StevenPeutz/MDA_HeatWaveAnalysis/master/dataset/mortalityNL_manuallycleaned.xlsx'"
   ]
  },
  {
   "cell_type": "code",
   "execution_count": 11,
   "id": "72bd5eba",
   "metadata": {},
   "outputs": [],
   "source": [
    "df_MortalityBE = pd.read_excel(GitURL_BelgiumDeath)"
   ]
  },
  {
   "cell_type": "code",
   "execution_count": 14,
   "id": "bf8907a1",
   "metadata": {},
   "outputs": [
    {
     "data": {
      "text/html": [
       "<div>\n",
       "<style scoped>\n",
       "    .dataframe tbody tr th:only-of-type {\n",
       "        vertical-align: middle;\n",
       "    }\n",
       "\n",
       "    .dataframe tbody tr th {\n",
       "        vertical-align: top;\n",
       "    }\n",
       "\n",
       "    .dataframe thead th {\n",
       "        text-align: right;\n",
       "    }\n",
       "</style>\n",
       "<table border=\"1\" class=\"dataframe\">\n",
       "  <thead>\n",
       "    <tr style=\"text-align: right;\">\n",
       "      <th></th>\n",
       "      <th>REGION</th>\n",
       "      <th>MONTH</th>\n",
       "      <th>YEAR</th>\n",
       "      <th>AGE-GROUP</th>\n",
       "      <th>SEX</th>\n",
       "      <th>COD</th>\n",
       "      <th>COUNT</th>\n",
       "    </tr>\n",
       "  </thead>\n",
       "  <tbody>\n",
       "    <tr>\n",
       "      <th>0</th>\n",
       "      <td>2000</td>\n",
       "      <td>1</td>\n",
       "      <td>2009</td>\n",
       "      <td>0-24</td>\n",
       "      <td>F</td>\n",
       "      <td>Certain infectious and parasitic diseases</td>\n",
       "      <td>1</td>\n",
       "    </tr>\n",
       "    <tr>\n",
       "      <th>1</th>\n",
       "      <td>2000</td>\n",
       "      <td>1</td>\n",
       "      <td>2009</td>\n",
       "      <td>0-24</td>\n",
       "      <td>F</td>\n",
       "      <td>Neoplasms</td>\n",
       "      <td>4</td>\n",
       "    </tr>\n",
       "    <tr>\n",
       "      <th>2</th>\n",
       "      <td>2000</td>\n",
       "      <td>1</td>\n",
       "      <td>2009</td>\n",
       "      <td>0-24</td>\n",
       "      <td>F</td>\n",
       "      <td>Endocrine, nutritional and metabolic diseases</td>\n",
       "      <td>1</td>\n",
       "    </tr>\n",
       "    <tr>\n",
       "      <th>3</th>\n",
       "      <td>2000</td>\n",
       "      <td>1</td>\n",
       "      <td>2009</td>\n",
       "      <td>0-24</td>\n",
       "      <td>F</td>\n",
       "      <td>Diseases of the nervous system</td>\n",
       "      <td>1</td>\n",
       "    </tr>\n",
       "    <tr>\n",
       "      <th>4</th>\n",
       "      <td>2000</td>\n",
       "      <td>1</td>\n",
       "      <td>2009</td>\n",
       "      <td>0-24</td>\n",
       "      <td>F</td>\n",
       "      <td>Diseases of the respiratory system</td>\n",
       "      <td>1</td>\n",
       "    </tr>\n",
       "  </tbody>\n",
       "</table>\n",
       "</div>"
      ],
      "text/plain": [
       "   REGION  MONTH  YEAR AGE-GROUP SEX  \\\n",
       "0    2000      1  2009      0-24   F   \n",
       "1    2000      1  2009      0-24   F   \n",
       "2    2000      1  2009      0-24   F   \n",
       "3    2000      1  2009      0-24   F   \n",
       "4    2000      1  2009      0-24   F   \n",
       "\n",
       "                                             COD  COUNT  \n",
       "0      Certain infectious and parasitic diseases      1  \n",
       "1                                      Neoplasms      4  \n",
       "2  Endocrine, nutritional and metabolic diseases      1  \n",
       "3                 Diseases of the nervous system      1  \n",
       "4             Diseases of the respiratory system      1  "
      ]
     },
     "execution_count": 14,
     "metadata": {},
     "output_type": "execute_result"
    }
   ],
   "source": [
    "df_MortalityBE.head()"
   ]
  },
  {
   "cell_type": "code",
   "execution_count": 17,
   "id": "0a45e4cb",
   "metadata": {},
   "outputs": [
    {
     "data": {
      "text/plain": [
       "External causes of morbidity and mortality                                                             3768\n",
       "Neoplasms                                                                                              3628\n",
       "Symptoms, signs and abnormal clinical and laboratory findings, not elsewhere classified                3536\n",
       "Diseases of the circulatory system                                                                     3380\n",
       "Diseases of the nervous system                                                                         3196\n",
       "Diseases of the digestive system                                                                       3075\n",
       "Diseases of the respiratory system                                                                     3037\n",
       "Endocrine, nutritional and metabolic diseases                                                          2902\n",
       "Certain infectious and parasitic diseases                                                              2879\n",
       "Mental and behavioural disorders                                                                       2817\n",
       "Diseases of the genitourinary system                                                                   2344\n",
       "Diseases of the musculoskeletal system and connective tissue                                           1811\n",
       "Diseases of the blood and blood-forming organs and certain disorders involving the immune mechanism    1578\n",
       "Congenital malformations, deformations and chromosomal abnormalities                                   1189\n",
       "Diseases of the skin and subcutaneous tissue                                                           1176\n",
       "Certain conditions originating in the perinatal period                                                  552\n",
       "UNK                                                                                                     313\n",
       "Pregnancy, childbirth and the puerperium                                                                 43\n",
       "Diseases of the eye and adnexa                                                                           30\n",
       "Diseases of the ear and mastoid process                                                                  23\n",
       "U00-U99                                                                                                   1\n",
       "Name: COD, dtype: int64"
      ]
     },
     "execution_count": 17,
     "metadata": {},
     "output_type": "execute_result"
    }
   ],
   "source": [
    "df_MortalityBE['COD'].value_counts()"
   ]
  },
  {
   "cell_type": "code",
   "execution_count": 29,
   "id": "5265e577",
   "metadata": {},
   "outputs": [],
   "source": [
    "#first make it easier by creating a df with only the relevant rows (Belgium)\n",
    "values_to_keep = ['Neoplasms', 'Diseases of the circulatory system', 'Diseases of the nervous system', 'Diseases of the respiratory system',\n",
    "                 'Mental and behavioural disorders', 'Diseases of the skin and subcutaneous tissue' ] \n",
    "    \n",
    "# selecting rows based on condition \n",
    "BE_subset_df = df_MortalityBE[df_MortalityBE['COD'].isin(values_to_keep)]"
   ]
  },
  {
   "cell_type": "code",
   "execution_count": 34,
   "id": "bc18bce0",
   "metadata": {},
   "outputs": [],
   "source": [
    "#df_MortalityBE.shape  #   41278 rows\n",
    "#BE_subset_df.shape     #   17234 rows\n",
    "#BE_subset_df.info()"
   ]
  },
  {
   "cell_type": "code",
   "execution_count": 52,
   "id": "db21463a",
   "metadata": {},
   "outputs": [
    {
     "data": {
      "text/plain": [
       "Neoplasms                                       3628\n",
       "Diseases of the circulatory system              3380\n",
       "Diseases of the nervous system                  3196\n",
       "Diseases of the respiratory system              3037\n",
       "Mental and behavioural disorders                2817\n",
       "Diseases of the skin and subcutaneous tissue    1176\n",
       "Name: COD, dtype: int64"
      ]
     },
     "execution_count": 52,
     "metadata": {},
     "output_type": "execute_result"
    }
   ],
   "source": [
    "BE_subset_df['COD'].value_counts()"
   ]
  },
  {
   "cell_type": "code",
   "execution_count": 48,
   "id": "9e1e38cb",
   "metadata": {},
   "outputs": [],
   "source": [
    "df_MortalityNL = pd.read_csv(GitURL_NetherlandsDeath, skiprows=3)"
   ]
  },
  {
   "cell_type": "code",
   "execution_count": 53,
   "id": "3436685f",
   "metadata": {},
   "outputs": [
    {
     "data": {
      "text/html": [
       "<div>\n",
       "<style scoped>\n",
       "    .dataframe tbody tr th:only-of-type {\n",
       "        vertical-align: middle;\n",
       "    }\n",
       "\n",
       "    .dataframe tbody tr th {\n",
       "        vertical-align: top;\n",
       "    }\n",
       "\n",
       "    .dataframe thead th {\n",
       "        text-align: right;\n",
       "    }\n",
       "</style>\n",
       "<table border=\"1\" class=\"dataframe\">\n",
       "  <thead>\n",
       "    <tr style=\"text-align: right;\">\n",
       "      <th></th>\n",
       "      <th>;\"Totaal alle overledenen\";\"Nieuwvormingen|Totaal nieuwvormingen\";\"Nieuwvormingen|Kwaadaardige nv. van luchtpijp en long\";\"Nieuwvormingen|Kwaadaardige nieuwvorming van borst\";\"Nieuwvormingen|Overige nieuwvormingen\";\"Psychische stoornis. en zktn zenuwstel..\";\"Ziekten van hart en vaatstelsel|Totaal ziekten van hart en vaatstelsel\";\"Ziekten van hart en vaatstelsel|Acuut hartinfarct\";\"Ziekten van hart en vaatstelsel|Hersenvaatletsels\";\"Ziekten van hart en vaatstelsel|Overige ziekten van hart en vaatstelsel\";\"Ziekten van de ademhalingsorganen\";\"Overige doodsoorzaken\"</th>\n",
       "    </tr>\n",
       "  </thead>\n",
       "  <tbody>\n",
       "    <tr>\n",
       "      <th>0</th>\n",
       "      <td>Perioden;\"aantal\";\"aantal\";\"aantal\";\"aantal\";\"...</td>\n",
       "    </tr>\n",
       "    <tr>\n",
       "      <th>1</th>\n",
       "      <td>1996 1e kwartaal;\"38552\";\"9609\";\"2073\";\"870\";\"...</td>\n",
       "    </tr>\n",
       "    <tr>\n",
       "      <th>2</th>\n",
       "      <td>1996 2e kwartaal;\"33618\";\"9426\";\"2171\";\"917\";\"...</td>\n",
       "    </tr>\n",
       "    <tr>\n",
       "      <th>3</th>\n",
       "      <td>1996 3e kwartaal;\"31499\";\"9494\";\"2109\";\"883\";\"...</td>\n",
       "    </tr>\n",
       "    <tr>\n",
       "      <th>4</th>\n",
       "      <td>1996 4e kwartaal;\"33892\";\"9742\";\"2218\";\"907\";\"...</td>\n",
       "    </tr>\n",
       "  </tbody>\n",
       "</table>\n",
       "</div>"
      ],
      "text/plain": [
       "  ;\"Totaal alle overledenen\";\"Nieuwvormingen|Totaal nieuwvormingen\";\"Nieuwvormingen|Kwaadaardige nv. van luchtpijp en long\";\"Nieuwvormingen|Kwaadaardige nieuwvorming van borst\";\"Nieuwvormingen|Overige nieuwvormingen\";\"Psychische stoornis. en zktn zenuwstel..\";\"Ziekten van hart en vaatstelsel|Totaal ziekten van hart en vaatstelsel\";\"Ziekten van hart en vaatstelsel|Acuut hartinfarct\";\"Ziekten van hart en vaatstelsel|Hersenvaatletsels\";\"Ziekten van hart en vaatstelsel|Overige ziekten van hart en vaatstelsel\";\"Ziekten van de ademhalingsorganen\";\"Overige doodsoorzaken\"\n",
       "0  Perioden;\"aantal\";\"aantal\";\"aantal\";\"aantal\";\"...                                                                                                                                                                                                                                                                                                                                                                                                                                                                                                                                      \n",
       "1  1996 1e kwartaal;\"38552\";\"9609\";\"2073\";\"870\";\"...                                                                                                                                                                                                                                                                                                                                                                                                                                                                                                                                      \n",
       "2  1996 2e kwartaal;\"33618\";\"9426\";\"2171\";\"917\";\"...                                                                                                                                                                                                                                                                                                                                                                                                                                                                                                                                      \n",
       "3  1996 3e kwartaal;\"31499\";\"9494\";\"2109\";\"883\";\"...                                                                                                                                                                                                                                                                                                                                                                                                                                                                                                                                      \n",
       "4  1996 4e kwartaal;\"33892\";\"9742\";\"2218\";\"907\";\"...                                                                                                                                                                                                                                                                                                                                                                                                                                                                                                                                      "
      ]
     },
     "execution_count": 53,
     "metadata": {},
     "output_type": "execute_result"
    }
   ],
   "source": [
    "df_MortalityNL.head()\n",
    "#I cant really get this correct, I can do so easily within the xls (by hand I mean) and the reupload and reimport.\n",
    "# But not sure if for the assignment it is not better to do this within python.."
   ]
  },
  {
   "cell_type": "code",
   "execution_count": 45,
   "id": "08a7d2c6",
   "metadata": {},
   "outputs": [],
   "source": [
    "#df.columns = ['Perioden', 'Totaal alle overledenen', 'Nieuwvormingen|Totaal nieuwvormingen', 'new_col4', etc..]"
   ]
  },
  {
   "cell_type": "code",
   "execution_count": 27,
   "id": "9ba0081e",
   "metadata": {},
   "outputs": [
    {
     "data": {
      "text/plain": [
       "'\\nClassificatie Nederland\\nKwaadaardige nv. van luchtpijp en long\\naantal\\n\\nNieuwvormingen|Kwaadaardige nieuwvorming van borst  Neoplasms\\naantal\\n\\nNieuwvormingen|Overige nieuwvormingen\\naantal\\n\\nPsychische stoornis. en zktn zenuwstel..\\naantal: Mental and behavioural disorders  + Diseases of the nervous system                                                                    \\n\\nZiekten van hart en vaatstelsel|Totaal ziekten van hart en vaatstelsel\\naantal\\n\\nZiekten van hart en vaatstelsel|Acuut hartinfarct\\naantal\\n\\nZiekten van hart en vaatstelsel|Hersenvaatletsels\\naantal\\n\\nZiekten van hart en vaatstelsel|Overige ziekten van hart en vaatstelsel\\naantal\\n\\nZiekten van de ademhalingsorganen\\naantal\\n\\nOverige doodsoorzaken : Symptoms, signs and abnormal clinical and laboratory findings, not elsewhere classified                3536\\n\\naantal\\n'"
      ]
     },
     "execution_count": 27,
     "metadata": {},
     "output_type": "execute_result"
    }
   ],
   "source": [
    "\"\"\"\n",
    "Classificatie Nederland\n",
    "\n",
    "Kwaadaardige nv. van luchtpijp en long \n",
    "aantal:  neoplasme * % luchtpijp en long\n",
    "\n",
    "Nieuwvormingen|Kwaadaardige nieuwvorming van borst  Neoplasms\n",
    "aantal: neoplasme * % kwaadaardig borst\n",
    "\n",
    "Nieuwvormingen|Overige nieuwvormingen\n",
    "aantal: neoplasme * % overig\n",
    "\n",
    "Psychische stoornis. en zktn zenuwstel..\n",
    "aantal: Mental and behavioural disorders  + Diseases of the nervous system                                                                    \n",
    "\n",
    "Ziekten van hart en vaatstelsel|Totaal ziekten van hart en vaatstelsel\n",
    "aantal:  Diseases of the circulatory system x % hart en vaat..\n",
    "\n",
    "Ziekten van hart en vaatstelsel|Acuut hartinfarct\n",
    "aantal: Diseases of the circulatory system x % heart attack\n",
    "\n",
    "Ziekten van hart en vaatstelsel|Hersenvaatletsels\n",
    "aantal: Diseases of the circulatory system x % brain circulatory etc\n",
    "\n",
    "Ziekten van hart en vaatstelsel|Overige ziekten van hart en vaatstelsel\n",
    "aantal: Diseases of the circulatory system x % other\n",
    "\n",
    "Ziekten van de ademhalingsorganen\n",
    "aantal: Diseases of the respiratory system \n",
    "\n",
    "Overige doodsoorzaken : Symptoms, signs and abnormal clinical and laboratory findings, not elsewhere classified                3536\n",
    "\n",
    "\"\"\""
   ]
  },
  {
   "cell_type": "code",
   "execution_count": null,
   "id": "7dc8d60f",
   "metadata": {},
   "outputs": [],
   "source": [
    "'''\n",
    "heatwave health effects which lead to death: respiratory, cardiovascular | extra: skincancer, nervous system & mental..\n",
    "\n",
    "- respiratory + cardiovascular are in the dataset itself\n",
    "- skincancer voor belgie is in de dataset onder Diseases of the skin and subcutaneous tissue                                                           1176\n",
    "- voor Nederland, sommeren we alle drie kanker kolommen en op basis van statistiek nemen we verhouding van dit totaal\n",
    "- mental/psychological and nervous system ook in beide sets.\n",
    "\n",
    "\n",
    "'''"
   ]
  },
  {
   "cell_type": "code",
   "execution_count": 71,
   "id": "31e5b165",
   "metadata": {},
   "outputs": [],
   "source": [
    "# for now moving on with new dataset (newly uploaded, same dataset but row headers fixed manually)\n",
    "df_MortalityNL = pd.read_excel(GitURL_NetherlandsDeath3)"
   ]
  },
  {
   "cell_type": "code",
   "execution_count": 72,
   "id": "af986ac3",
   "metadata": {},
   "outputs": [
    {
     "data": {
      "text/plain": [
       "(93, 13)"
      ]
     },
     "execution_count": 72,
     "metadata": {},
     "output_type": "execute_result"
    }
   ],
   "source": [
    "df_MortalityNL.shape"
   ]
  },
  {
   "cell_type": "code",
   "execution_count": 73,
   "id": "8733be47",
   "metadata": {},
   "outputs": [
    {
     "data": {
      "text/html": [
       "<div>\n",
       "<style scoped>\n",
       "    .dataframe tbody tr th:only-of-type {\n",
       "        vertical-align: middle;\n",
       "    }\n",
       "\n",
       "    .dataframe tbody tr th {\n",
       "        vertical-align: top;\n",
       "    }\n",
       "\n",
       "    .dataframe thead th {\n",
       "        text-align: right;\n",
       "    }\n",
       "</style>\n",
       "<table border=\"1\" class=\"dataframe\">\n",
       "  <thead>\n",
       "    <tr style=\"text-align: right;\">\n",
       "      <th></th>\n",
       "      <th>Perioden</th>\n",
       "      <th>Totaal alle overledenen</th>\n",
       "      <th>Nieuwvormingen|Totaal nieuwvormingen</th>\n",
       "      <th>Nieuwvormingen|Kwaadaardige nv. van luchtpijp en long</th>\n",
       "      <th>Nieuwvormingen|Kwaadaardige nieuwvorming van borst</th>\n",
       "      <th>Nieuwvormingen|Overige nieuwvormingen</th>\n",
       "      <th>Psychische stoornis. en zktn zenuwstel</th>\n",
       "      <th>Ziekten van hart en vaatstelsel|Totaal ziekten van hart en vaatstelsel</th>\n",
       "      <th>Ziekten van hart en vaatstelsel|Acuut hartinfarct</th>\n",
       "      <th>Ziekten van hart en vaatstelsel|Hersenvaatletsels</th>\n",
       "      <th>Ziekten van hart en vaatstelsel|Overige ziekten van hart en vaatstelsel</th>\n",
       "      <th>Ziekten van de ademhalingsorganen</th>\n",
       "      <th>Overige doodsoorzaken</th>\n",
       "    </tr>\n",
       "  </thead>\n",
       "  <tbody>\n",
       "    <tr>\n",
       "      <th>0</th>\n",
       "      <td>1996 1e kwartaal</td>\n",
       "      <td>38552.0</td>\n",
       "      <td>9609.0</td>\n",
       "      <td>2073.0</td>\n",
       "      <td>870.0</td>\n",
       "      <td>6666.0</td>\n",
       "      <td>2036.0</td>\n",
       "      <td>14751.0</td>\n",
       "      <td>4414.0</td>\n",
       "      <td>3454.0</td>\n",
       "      <td>6883.0</td>\n",
       "      <td>4556.0</td>\n",
       "      <td>7600.0</td>\n",
       "    </tr>\n",
       "    <tr>\n",
       "      <th>1</th>\n",
       "      <td>1996 2e kwartaal</td>\n",
       "      <td>33618.0</td>\n",
       "      <td>9426.0</td>\n",
       "      <td>2171.0</td>\n",
       "      <td>917.0</td>\n",
       "      <td>6338.0</td>\n",
       "      <td>1772.0</td>\n",
       "      <td>12507.0</td>\n",
       "      <td>3673.0</td>\n",
       "      <td>3063.0</td>\n",
       "      <td>5771.0</td>\n",
       "      <td>3089.0</td>\n",
       "      <td>6824.0</td>\n",
       "    </tr>\n",
       "    <tr>\n",
       "      <th>2</th>\n",
       "      <td>1996 3e kwartaal</td>\n",
       "      <td>31499.0</td>\n",
       "      <td>9494.0</td>\n",
       "      <td>2109.0</td>\n",
       "      <td>883.0</td>\n",
       "      <td>6502.0</td>\n",
       "      <td>1619.0</td>\n",
       "      <td>11281.0</td>\n",
       "      <td>3385.0</td>\n",
       "      <td>2663.0</td>\n",
       "      <td>5233.0</td>\n",
       "      <td>2484.0</td>\n",
       "      <td>6621.0</td>\n",
       "    </tr>\n",
       "    <tr>\n",
       "      <th>3</th>\n",
       "      <td>1996 4e kwartaal</td>\n",
       "      <td>33892.0</td>\n",
       "      <td>9742.0</td>\n",
       "      <td>2218.0</td>\n",
       "      <td>907.0</td>\n",
       "      <td>6617.0</td>\n",
       "      <td>1680.0</td>\n",
       "      <td>12774.0</td>\n",
       "      <td>3786.0</td>\n",
       "      <td>3052.0</td>\n",
       "      <td>5936.0</td>\n",
       "      <td>2926.0</td>\n",
       "      <td>6770.0</td>\n",
       "    </tr>\n",
       "    <tr>\n",
       "      <th>4</th>\n",
       "      <td>1997 1e kwartaal</td>\n",
       "      <td>37134.0</td>\n",
       "      <td>9612.0</td>\n",
       "      <td>2203.0</td>\n",
       "      <td>926.0</td>\n",
       "      <td>6483.0</td>\n",
       "      <td>1976.0</td>\n",
       "      <td>13789.0</td>\n",
       "      <td>4015.0</td>\n",
       "      <td>3248.0</td>\n",
       "      <td>6526.0</td>\n",
       "      <td>4527.0</td>\n",
       "      <td>7230.0</td>\n",
       "    </tr>\n",
       "  </tbody>\n",
       "</table>\n",
       "</div>"
      ],
      "text/plain": [
       "           Perioden  Totaal alle overledenen  \\\n",
       "0  1996 1e kwartaal                  38552.0   \n",
       "1  1996 2e kwartaal                  33618.0   \n",
       "2  1996 3e kwartaal                  31499.0   \n",
       "3  1996 4e kwartaal                  33892.0   \n",
       "4  1997 1e kwartaal                  37134.0   \n",
       "\n",
       "   Nieuwvormingen|Totaal nieuwvormingen  \\\n",
       "0                                9609.0   \n",
       "1                                9426.0   \n",
       "2                                9494.0   \n",
       "3                                9742.0   \n",
       "4                                9612.0   \n",
       "\n",
       "   Nieuwvormingen|Kwaadaardige nv. van luchtpijp en long  \\\n",
       "0                                             2073.0       \n",
       "1                                             2171.0       \n",
       "2                                             2109.0       \n",
       "3                                             2218.0       \n",
       "4                                             2203.0       \n",
       "\n",
       "   Nieuwvormingen|Kwaadaardige nieuwvorming van borst  \\\n",
       "0                                              870.0    \n",
       "1                                              917.0    \n",
       "2                                              883.0    \n",
       "3                                              907.0    \n",
       "4                                              926.0    \n",
       "\n",
       "   Nieuwvormingen|Overige nieuwvormingen  \\\n",
       "0                                 6666.0   \n",
       "1                                 6338.0   \n",
       "2                                 6502.0   \n",
       "3                                 6617.0   \n",
       "4                                 6483.0   \n",
       "\n",
       "   Psychische stoornis. en zktn zenuwstel  \\\n",
       "0                                  2036.0   \n",
       "1                                  1772.0   \n",
       "2                                  1619.0   \n",
       "3                                  1680.0   \n",
       "4                                  1976.0   \n",
       "\n",
       "   Ziekten van hart en vaatstelsel|Totaal ziekten van hart en vaatstelsel  \\\n",
       "0                                            14751.0                        \n",
       "1                                            12507.0                        \n",
       "2                                            11281.0                        \n",
       "3                                            12774.0                        \n",
       "4                                            13789.0                        \n",
       "\n",
       "   Ziekten van hart en vaatstelsel|Acuut hartinfarct  \\\n",
       "0                                             4414.0   \n",
       "1                                             3673.0   \n",
       "2                                             3385.0   \n",
       "3                                             3786.0   \n",
       "4                                             4015.0   \n",
       "\n",
       "   Ziekten van hart en vaatstelsel|Hersenvaatletsels  \\\n",
       "0                                             3454.0   \n",
       "1                                             3063.0   \n",
       "2                                             2663.0   \n",
       "3                                             3052.0   \n",
       "4                                             3248.0   \n",
       "\n",
       "   Ziekten van hart en vaatstelsel|Overige ziekten van hart en vaatstelsel  \\\n",
       "0                                             6883.0                         \n",
       "1                                             5771.0                         \n",
       "2                                             5233.0                         \n",
       "3                                             5936.0                         \n",
       "4                                             6526.0                         \n",
       "\n",
       "   Ziekten van de ademhalingsorganen  Overige doodsoorzaken  \n",
       "0                             4556.0                 7600.0  \n",
       "1                             3089.0                 6824.0  \n",
       "2                             2484.0                 6621.0  \n",
       "3                             2926.0                 6770.0  \n",
       "4                             4527.0                 7230.0  "
      ]
     },
     "execution_count": 73,
     "metadata": {},
     "output_type": "execute_result"
    }
   ],
   "source": [
    "df_MortalityNL.head()\n",
    "#had to change to xlsx and reupload to get the columns working properly\n",
    "#will continue next time"
   ]
  },
  {
   "cell_type": "code",
   "execution_count": null,
   "id": "70841613",
   "metadata": {},
   "outputs": [],
   "source": []
  }
 ],
 "metadata": {
  "kernelspec": {
   "display_name": "Python 3.7.3 64-bit ('base')",
   "language": "python",
   "name": "python37364bitbasebd025eb8609a4d4cb3ec96c027ae8048"
  },
  "language_info": {
   "codemirror_mode": {
    "name": "ipython",
    "version": 3
   },
   "file_extension": ".py",
   "mimetype": "text/x-python",
   "name": "python",
   "nbconvert_exporter": "python",
   "pygments_lexer": "ipython3",
   "version": "3.7.3"
  }
 },
 "nbformat": 4,
 "nbformat_minor": 5
}
